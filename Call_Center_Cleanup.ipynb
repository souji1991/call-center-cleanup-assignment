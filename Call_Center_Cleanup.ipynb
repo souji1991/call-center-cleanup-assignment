{
 "cells": [
  {
   "cell_type": "markdown",
   "id": "331a1c4f",
   "metadata": {},
   "source": [
    "# Call Center Cleanup\n",
    "\n",
    "For this assignment, we will be working with call center data. You can start working on the assignment after the first lesson on Exploratory Data Analysis. Make sure to read the whole assignment before starting anything! As you code along in the Jupyter notebook, you are asked to make note of the results of your analysis. Do so by clicking on the results box and adding your notes beside each question.\n",
    "\n",
    "## Business Issue and Understanding\n",
    "\n",
    "You are working for a company that has two call centers: the North Call Center and the South Call Center. The company is looking to possibly hire five additional reps to enhance customer experience. Your task is to explore how efficient the current reps are in each branch to determine which branch would benefit from additional assistance.\n",
    "\n",
    "### How the Call Center Works\n",
    "\n",
    "Call center representatives are assigned queues. When calls are assigned to a queue, the call is assigned to the next person in line in the queue. After a call is assigned to a representative, the amount of time between assignment and the call starting is divided into busy minutes and not ready minutes. If the call is incoming and a customer is waiting on the phone for a rep, the time is split into three categories: busy minutes, not ready minutes, and incoming call wait time. Once the rep has the customer on the phone, there might be during call wait time, where the call is put on hold while the rep gets an answer for the customer.\n",
    "\n",
    "### Notes about the Dataset\n",
    "\n",
    "If you haven't worked in a call center before, these notes might help you throughout your analysis.\n",
    "\n",
    "* The call purpose is tagged for each call.\n",
    "* The time of the call is tagged in 1 hour blocks starting at 9:00 AM and ending at 5:00 PM.\n",
    "* Calls are tagged as incoming or outgoing.\n",
    "* Reps are assigned to queues. When the reps are working, they take calls in the order of their queue.\n",
    "* A call that is dropped due to technical error or missed by the center because they have reached maximum capacity is a lost call.\n",
    "* An abandoned call is when the customer hangs up because they have been waiting for too long.\n",
    "* Busy Minutes: the amount of time after a call comes in or needs to go out where the assigned rep is not available because they are busy with other customers.\n",
    "* Not Ready Minutes: the amount of time after a call comes in or needs to go out where the assigned rep is not available because they are not ready (for example, getting water).\n",
    "* Incoming Wait Time - amount of time after assigned rep is available to take the call customer waits for representative to pick up a call. This is tracked in seconds.\n",
    "* During Call Wait Time - amount of time during call that customer has to wait for representative\n",
    "\n",
    "## Getting Started\n",
    "\n",
    "You have two CSVs at your disposal, `NorthCallCenter.csv` and `SouthCallCenter.csv`. Import the appropriate libraries and create two dataframes, one called `north_df` and one called `south_df`."
   ]
  },
  {
   "cell_type": "code",
   "execution_count": 149,
   "id": "f362436b",
   "metadata": {},
   "outputs": [],
   "source": [
    "# Import the appropriate libraries with aliases\n",
    "import pandas as pd\n",
    "import numpy as np\n",
    "import seaborn as sns\n",
    "\n",
    "import matplotlib.pyplot as plt\n",
    "import matplotlib.mlab as mlab\n",
    "import matplotlib\n",
    "plt.style.use('ggplot')\n",
    "from matplotlib.pyplot import figure\n",
    "\n",
    "%matplotlib inline\n",
    "matplotlib.rcParams['figure.figsize'] = (12,8)\n",
    "\n",
    "import pandas as pd\n",
    "import numpy as np\n",
    "# Create two new dataframes\n",
    "north_df=pd.read_csv(\"NorthCallCenter.csv\")\n",
    "south_df=pd.read_csv(\"SouthCallCenter.csv\")"
   ]
  },
  {
   "cell_type": "code",
   "execution_count": 150,
   "id": "139b773b",
   "metadata": {},
   "outputs": [
    {
     "data": {
      "text/html": [
       "<div>\n",
       "<style scoped>\n",
       "    .dataframe tbody tr th:only-of-type {\n",
       "        vertical-align: middle;\n",
       "    }\n",
       "\n",
       "    .dataframe tbody tr th {\n",
       "        vertical-align: top;\n",
       "    }\n",
       "\n",
       "    .dataframe thead th {\n",
       "        text-align: right;\n",
       "    }\n",
       "</style>\n",
       "<table border=\"1\" class=\"dataframe\">\n",
       "  <thead>\n",
       "    <tr style=\"text-align: right;\">\n",
       "      <th></th>\n",
       "      <th>Unnamed: 0</th>\n",
       "      <th>Branch</th>\n",
       "      <th>Call Purpose</th>\n",
       "      <th>Time Block</th>\n",
       "      <th>Incoming or Outgoing</th>\n",
       "      <th>Queue</th>\n",
       "      <th>Rep ID</th>\n",
       "      <th>Sale</th>\n",
       "      <th>Lost Call</th>\n",
       "      <th>Abandoned</th>\n",
       "      <th>Busy Minutes</th>\n",
       "      <th>Not Ready Minutes</th>\n",
       "      <th>Incoming Wait Time</th>\n",
       "      <th>During Call Wait Time</th>\n",
       "      <th>Calls</th>\n",
       "    </tr>\n",
       "  </thead>\n",
       "  <tbody>\n",
       "    <tr>\n",
       "      <th>0</th>\n",
       "      <td>0</td>\n",
       "      <td>North</td>\n",
       "      <td>Complaint</td>\n",
       "      <td>9:00 AM</td>\n",
       "      <td>Incoming</td>\n",
       "      <td>B</td>\n",
       "      <td>Brent</td>\n",
       "      <td>NO</td>\n",
       "      <td>0</td>\n",
       "      <td>1</td>\n",
       "      <td>9</td>\n",
       "      <td>2</td>\n",
       "      <td>1.0</td>\n",
       "      <td>4</td>\n",
       "      <td>1</td>\n",
       "    </tr>\n",
       "    <tr>\n",
       "      <th>1</th>\n",
       "      <td>1</td>\n",
       "      <td>North</td>\n",
       "      <td>Sales Support</td>\n",
       "      <td>11:00 AM</td>\n",
       "      <td>Incoming</td>\n",
       "      <td>A</td>\n",
       "      <td>Cam</td>\n",
       "      <td>NO</td>\n",
       "      <td>0</td>\n",
       "      <td>0</td>\n",
       "      <td>11</td>\n",
       "      <td>1</td>\n",
       "      <td>1.0</td>\n",
       "      <td>3</td>\n",
       "      <td>1</td>\n",
       "    </tr>\n",
       "    <tr>\n",
       "      <th>2</th>\n",
       "      <td>2</td>\n",
       "      <td>North</td>\n",
       "      <td>Sales Support</td>\n",
       "      <td>11:00 AM</td>\n",
       "      <td>Incoming</td>\n",
       "      <td>B</td>\n",
       "      <td>Todd</td>\n",
       "      <td>NO</td>\n",
       "      <td>0</td>\n",
       "      <td>0</td>\n",
       "      <td>9</td>\n",
       "      <td>3</td>\n",
       "      <td>1.0</td>\n",
       "      <td>3</td>\n",
       "      <td>1</td>\n",
       "    </tr>\n",
       "    <tr>\n",
       "      <th>3</th>\n",
       "      <td>3</td>\n",
       "      <td>North</td>\n",
       "      <td>Sales Support</td>\n",
       "      <td>4:00 PM</td>\n",
       "      <td>Incoming</td>\n",
       "      <td>B</td>\n",
       "      <td>Brent</td>\n",
       "      <td>NO</td>\n",
       "      <td>0</td>\n",
       "      <td>0</td>\n",
       "      <td>11</td>\n",
       "      <td>2</td>\n",
       "      <td>1.0</td>\n",
       "      <td>4</td>\n",
       "      <td>1</td>\n",
       "    </tr>\n",
       "    <tr>\n",
       "      <th>4</th>\n",
       "      <td>4</td>\n",
       "      <td>North</td>\n",
       "      <td>Product Support</td>\n",
       "      <td>12:00 PM</td>\n",
       "      <td>Incoming</td>\n",
       "      <td>B</td>\n",
       "      <td>Brent</td>\n",
       "      <td>NO</td>\n",
       "      <td>0</td>\n",
       "      <td>0</td>\n",
       "      <td>8</td>\n",
       "      <td>2</td>\n",
       "      <td>1.0</td>\n",
       "      <td>4</td>\n",
       "      <td>1</td>\n",
       "    </tr>\n",
       "    <tr>\n",
       "      <th>5</th>\n",
       "      <td>5</td>\n",
       "      <td>North</td>\n",
       "      <td>Product Support</td>\n",
       "      <td>2:00 PM</td>\n",
       "      <td>Incoming</td>\n",
       "      <td>B</td>\n",
       "      <td>Duke</td>\n",
       "      <td>NO</td>\n",
       "      <td>0</td>\n",
       "      <td>0</td>\n",
       "      <td>12</td>\n",
       "      <td>2</td>\n",
       "      <td>1.0</td>\n",
       "      <td>2</td>\n",
       "      <td>1</td>\n",
       "    </tr>\n",
       "    <tr>\n",
       "      <th>6</th>\n",
       "      <td>6</td>\n",
       "      <td>North</td>\n",
       "      <td>Product Support</td>\n",
       "      <td>2:00 PM</td>\n",
       "      <td>Incoming</td>\n",
       "      <td>A</td>\n",
       "      <td>Joe</td>\n",
       "      <td>NO</td>\n",
       "      <td>0</td>\n",
       "      <td>0</td>\n",
       "      <td>8</td>\n",
       "      <td>1</td>\n",
       "      <td>1.0</td>\n",
       "      <td>3</td>\n",
       "      <td>1</td>\n",
       "    </tr>\n",
       "    <tr>\n",
       "      <th>7</th>\n",
       "      <td>7</td>\n",
       "      <td>North</td>\n",
       "      <td>Product Support</td>\n",
       "      <td>2:00 PM</td>\n",
       "      <td>Incoming</td>\n",
       "      <td>B</td>\n",
       "      <td>Lilly</td>\n",
       "      <td>NO</td>\n",
       "      <td>0</td>\n",
       "      <td>0</td>\n",
       "      <td>11</td>\n",
       "      <td>2</td>\n",
       "      <td>1.0</td>\n",
       "      <td>3</td>\n",
       "      <td>1</td>\n",
       "    </tr>\n",
       "    <tr>\n",
       "      <th>8</th>\n",
       "      <td>8</td>\n",
       "      <td>North</td>\n",
       "      <td>Product Support</td>\n",
       "      <td>3:00 PM</td>\n",
       "      <td>Incoming</td>\n",
       "      <td>B</td>\n",
       "      <td>Duke</td>\n",
       "      <td>NO</td>\n",
       "      <td>0</td>\n",
       "      <td>0</td>\n",
       "      <td>12</td>\n",
       "      <td>2</td>\n",
       "      <td>1.0</td>\n",
       "      <td>4</td>\n",
       "      <td>1</td>\n",
       "    </tr>\n",
       "    <tr>\n",
       "      <th>9</th>\n",
       "      <td>9</td>\n",
       "      <td>North</td>\n",
       "      <td>Product Support</td>\n",
       "      <td>3:00 PM</td>\n",
       "      <td>Incoming</td>\n",
       "      <td>A</td>\n",
       "      <td>Cam</td>\n",
       "      <td>NO</td>\n",
       "      <td>0</td>\n",
       "      <td>0</td>\n",
       "      <td>11</td>\n",
       "      <td>3</td>\n",
       "      <td>1.0</td>\n",
       "      <td>4</td>\n",
       "      <td>1</td>\n",
       "    </tr>\n",
       "  </tbody>\n",
       "</table>\n",
       "</div>"
      ],
      "text/plain": [
       "   Unnamed: 0 Branch     Call Purpose Time Block Incoming or Outgoing Queue  \\\n",
       "0           0  North        Complaint    9:00 AM             Incoming     B   \n",
       "1           1  North    Sales Support   11:00 AM             Incoming     A   \n",
       "2           2  North    Sales Support   11:00 AM             Incoming     B   \n",
       "3           3  North    Sales Support    4:00 PM             Incoming     B   \n",
       "4           4  North  Product Support   12:00 PM             Incoming     B   \n",
       "5           5  North  Product Support    2:00 PM             Incoming     B   \n",
       "6           6  North  Product Support    2:00 PM             Incoming     A   \n",
       "7           7  North  Product Support    2:00 PM             Incoming     B   \n",
       "8           8  North  Product Support    3:00 PM             Incoming     B   \n",
       "9           9  North  Product Support    3:00 PM             Incoming     A   \n",
       "\n",
       "  Rep ID Sale  Lost Call  Abandoned  Busy Minutes  Not Ready Minutes  \\\n",
       "0  Brent   NO          0          1             9                  2   \n",
       "1    Cam   NO          0          0            11                  1   \n",
       "2   Todd   NO          0          0             9                  3   \n",
       "3  Brent   NO          0          0            11                  2   \n",
       "4  Brent   NO          0          0             8                  2   \n",
       "5   Duke   NO          0          0            12                  2   \n",
       "6    Joe   NO          0          0             8                  1   \n",
       "7  Lilly   NO          0          0            11                  2   \n",
       "8   Duke   NO          0          0            12                  2   \n",
       "9    Cam   NO          0          0            11                  3   \n",
       "\n",
       "   Incoming Wait Time  During Call Wait Time  Calls  \n",
       "0                 1.0                      4      1  \n",
       "1                 1.0                      3      1  \n",
       "2                 1.0                      3      1  \n",
       "3                 1.0                      4      1  \n",
       "4                 1.0                      4      1  \n",
       "5                 1.0                      2      1  \n",
       "6                 1.0                      3      1  \n",
       "7                 1.0                      3      1  \n",
       "8                 1.0                      4      1  \n",
       "9                 1.0                      4      1  "
      ]
     },
     "execution_count": 150,
     "metadata": {},
     "output_type": "execute_result"
    }
   ],
   "source": [
    "north_df.shape\n",
    "north_df.head(10)"
   ]
  },
  {
   "cell_type": "code",
   "execution_count": 152,
   "id": "a5a59630",
   "metadata": {},
   "outputs": [
    {
     "data": {
      "text/html": [
       "<div>\n",
       "<style scoped>\n",
       "    .dataframe tbody tr th:only-of-type {\n",
       "        vertical-align: middle;\n",
       "    }\n",
       "\n",
       "    .dataframe tbody tr th {\n",
       "        vertical-align: top;\n",
       "    }\n",
       "\n",
       "    .dataframe thead th {\n",
       "        text-align: right;\n",
       "    }\n",
       "</style>\n",
       "<table border=\"1\" class=\"dataframe\">\n",
       "  <thead>\n",
       "    <tr style=\"text-align: right;\">\n",
       "      <th></th>\n",
       "      <th>Unnamed: 0</th>\n",
       "      <th>Branch</th>\n",
       "      <th>Call Purpose</th>\n",
       "      <th>Time Block</th>\n",
       "      <th>Incoming or Outgoing</th>\n",
       "      <th>Queue</th>\n",
       "      <th>Rep ID</th>\n",
       "      <th>Sale</th>\n",
       "      <th>Lost Call</th>\n",
       "      <th>Abandoned</th>\n",
       "      <th>Busy Minutes</th>\n",
       "      <th>Not Ready Minutes</th>\n",
       "      <th>Incoming Wait Time</th>\n",
       "      <th>During Call Wait Time</th>\n",
       "      <th>Calls</th>\n",
       "    </tr>\n",
       "  </thead>\n",
       "  <tbody>\n",
       "    <tr>\n",
       "      <th>0</th>\n",
       "      <td>0</td>\n",
       "      <td>South</td>\n",
       "      <td>Sales Support</td>\n",
       "      <td>10:00 AM</td>\n",
       "      <td>Incoming</td>\n",
       "      <td>D</td>\n",
       "      <td>Kate</td>\n",
       "      <td>NO</td>\n",
       "      <td>0</td>\n",
       "      <td>0</td>\n",
       "      <td>9</td>\n",
       "      <td>1</td>\n",
       "      <td>1.0</td>\n",
       "      <td>2</td>\n",
       "      <td>1</td>\n",
       "    </tr>\n",
       "    <tr>\n",
       "      <th>1</th>\n",
       "      <td>1</td>\n",
       "      <td>South</td>\n",
       "      <td>Sales Support</td>\n",
       "      <td>10:00 AM</td>\n",
       "      <td>Incoming</td>\n",
       "      <td>C</td>\n",
       "      <td>Eric</td>\n",
       "      <td>NO</td>\n",
       "      <td>0</td>\n",
       "      <td>0</td>\n",
       "      <td>8</td>\n",
       "      <td>2</td>\n",
       "      <td>1.0</td>\n",
       "      <td>4</td>\n",
       "      <td>1</td>\n",
       "    </tr>\n",
       "    <tr>\n",
       "      <th>2</th>\n",
       "      <td>2</td>\n",
       "      <td>South</td>\n",
       "      <td>Sales Support</td>\n",
       "      <td>10:00 AM</td>\n",
       "      <td>Incoming</td>\n",
       "      <td>C</td>\n",
       "      <td>Susan</td>\n",
       "      <td>NO</td>\n",
       "      <td>0</td>\n",
       "      <td>0</td>\n",
       "      <td>10</td>\n",
       "      <td>2</td>\n",
       "      <td>1.0</td>\n",
       "      <td>4</td>\n",
       "      <td>1</td>\n",
       "    </tr>\n",
       "    <tr>\n",
       "      <th>3</th>\n",
       "      <td>3</td>\n",
       "      <td>South</td>\n",
       "      <td>Sales Support</td>\n",
       "      <td>10:00 AM</td>\n",
       "      <td>Incoming</td>\n",
       "      <td>C</td>\n",
       "      <td>Alice</td>\n",
       "      <td>NO</td>\n",
       "      <td>0</td>\n",
       "      <td>0</td>\n",
       "      <td>12</td>\n",
       "      <td>1</td>\n",
       "      <td>1.0</td>\n",
       "      <td>3</td>\n",
       "      <td>1</td>\n",
       "    </tr>\n",
       "    <tr>\n",
       "      <th>4</th>\n",
       "      <td>4</td>\n",
       "      <td>South</td>\n",
       "      <td>Sales Support</td>\n",
       "      <td>12:00 PM</td>\n",
       "      <td>Incoming</td>\n",
       "      <td>C</td>\n",
       "      <td>Sandy</td>\n",
       "      <td>NO</td>\n",
       "      <td>0</td>\n",
       "      <td>0</td>\n",
       "      <td>8</td>\n",
       "      <td>3</td>\n",
       "      <td>1.0</td>\n",
       "      <td>3</td>\n",
       "      <td>1</td>\n",
       "    </tr>\n",
       "    <tr>\n",
       "      <th>5</th>\n",
       "      <td>5</td>\n",
       "      <td>South</td>\n",
       "      <td>Sales Support</td>\n",
       "      <td>1:00 PM</td>\n",
       "      <td>Incoming</td>\n",
       "      <td>D</td>\n",
       "      <td>Karl</td>\n",
       "      <td>NO</td>\n",
       "      <td>0</td>\n",
       "      <td>0</td>\n",
       "      <td>9</td>\n",
       "      <td>1</td>\n",
       "      <td>1.0</td>\n",
       "      <td>4</td>\n",
       "      <td>1</td>\n",
       "    </tr>\n",
       "    <tr>\n",
       "      <th>6</th>\n",
       "      <td>6</td>\n",
       "      <td>South</td>\n",
       "      <td>Product Support</td>\n",
       "      <td>11:00 AM</td>\n",
       "      <td>Incoming</td>\n",
       "      <td>C</td>\n",
       "      <td>Sandy</td>\n",
       "      <td>NO</td>\n",
       "      <td>0</td>\n",
       "      <td>0</td>\n",
       "      <td>8</td>\n",
       "      <td>1</td>\n",
       "      <td>1.0</td>\n",
       "      <td>2</td>\n",
       "      <td>1</td>\n",
       "    </tr>\n",
       "    <tr>\n",
       "      <th>7</th>\n",
       "      <td>7</td>\n",
       "      <td>South</td>\n",
       "      <td>Product Support</td>\n",
       "      <td>12:00 PM</td>\n",
       "      <td>Incoming</td>\n",
       "      <td>C</td>\n",
       "      <td>Sandy</td>\n",
       "      <td>NO</td>\n",
       "      <td>0</td>\n",
       "      <td>0</td>\n",
       "      <td>8</td>\n",
       "      <td>1</td>\n",
       "      <td>1.0</td>\n",
       "      <td>3</td>\n",
       "      <td>1</td>\n",
       "    </tr>\n",
       "    <tr>\n",
       "      <th>8</th>\n",
       "      <td>8</td>\n",
       "      <td>South</td>\n",
       "      <td>Product Support</td>\n",
       "      <td>2:00 PM</td>\n",
       "      <td>Incoming</td>\n",
       "      <td>D</td>\n",
       "      <td>Randy</td>\n",
       "      <td>NO</td>\n",
       "      <td>0</td>\n",
       "      <td>0</td>\n",
       "      <td>11</td>\n",
       "      <td>2</td>\n",
       "      <td>1.0</td>\n",
       "      <td>4</td>\n",
       "      <td>1</td>\n",
       "    </tr>\n",
       "    <tr>\n",
       "      <th>9</th>\n",
       "      <td>9</td>\n",
       "      <td>South</td>\n",
       "      <td>Product Support</td>\n",
       "      <td>3:00 PM</td>\n",
       "      <td>Incoming</td>\n",
       "      <td>D</td>\n",
       "      <td>George</td>\n",
       "      <td>NO</td>\n",
       "      <td>0</td>\n",
       "      <td>0</td>\n",
       "      <td>8</td>\n",
       "      <td>3</td>\n",
       "      <td>1.0</td>\n",
       "      <td>4</td>\n",
       "      <td>1</td>\n",
       "    </tr>\n",
       "  </tbody>\n",
       "</table>\n",
       "</div>"
      ],
      "text/plain": [
       "   Unnamed: 0 Branch     Call Purpose Time Block Incoming or Outgoing Queue  \\\n",
       "0           0  South    Sales Support   10:00 AM             Incoming     D   \n",
       "1           1  South    Sales Support   10:00 AM             Incoming     C   \n",
       "2           2  South    Sales Support   10:00 AM             Incoming     C   \n",
       "3           3  South    Sales Support   10:00 AM             Incoming     C   \n",
       "4           4  South    Sales Support   12:00 PM             Incoming     C   \n",
       "5           5  South    Sales Support    1:00 PM             Incoming     D   \n",
       "6           6  South  Product Support   11:00 AM             Incoming     C   \n",
       "7           7  South  Product Support   12:00 PM             Incoming     C   \n",
       "8           8  South  Product Support    2:00 PM             Incoming     D   \n",
       "9           9  South  Product Support    3:00 PM             Incoming     D   \n",
       "\n",
       "   Rep ID Sale  Lost Call  Abandoned  Busy Minutes  Not Ready Minutes  \\\n",
       "0    Kate   NO          0          0             9                  1   \n",
       "1    Eric   NO          0          0             8                  2   \n",
       "2   Susan   NO          0          0            10                  2   \n",
       "3   Alice   NO          0          0            12                  1   \n",
       "4   Sandy   NO          0          0             8                  3   \n",
       "5    Karl   NO          0          0             9                  1   \n",
       "6   Sandy   NO          0          0             8                  1   \n",
       "7   Sandy   NO          0          0             8                  1   \n",
       "8   Randy   NO          0          0            11                  2   \n",
       "9  George   NO          0          0             8                  3   \n",
       "\n",
       "   Incoming Wait Time  During Call Wait Time  Calls  \n",
       "0                 1.0                      2      1  \n",
       "1                 1.0                      4      1  \n",
       "2                 1.0                      4      1  \n",
       "3                 1.0                      3      1  \n",
       "4                 1.0                      3      1  \n",
       "5                 1.0                      4      1  \n",
       "6                 1.0                      2      1  \n",
       "7                 1.0                      3      1  \n",
       "8                 1.0                      4      1  \n",
       "9                 1.0                      4      1  "
      ]
     },
     "execution_count": 152,
     "metadata": {},
     "output_type": "execute_result"
    }
   ],
   "source": [
    "south_df.shape\n",
    "south_df.head(10)"
   ]
  },
  {
   "cell_type": "markdown",
   "id": "37f77cd4",
   "metadata": {},
   "source": [
    "<span style=\"background-color:orangered; color:orangered;\">- - - - - - - - - - - - - - - - - - - - - - - - - - - - - - - - - - - - - - - - - - - - - - - - - - - - - - - - - - - - - - - - - - - - - - - - - - - - - - - - - - - - - - - - -</span>"
   ]
  },
  {
   "cell_type": "markdown",
   "id": "b4d3484b",
   "metadata": {},
   "source": [
    "## Exploratory Data Analysis\n",
    "\n",
    "Time to do some EDA! In the process of learning more about the two datasets, answer the following questions. In the code blocks below enter the code used to solve the question.  At the end of the section record your answers by double clicking where asked."
   ]
  },
  {
   "cell_type": "markdown",
   "id": "76898991",
   "metadata": {},
   "source": [
    "#### EDA Question 1A:  How many reps are in the North branch?  "
   ]
  },
  {
   "cell_type": "code",
   "execution_count": 119,
   "id": "ce3eb5e4",
   "metadata": {},
   "outputs": [
    {
     "name": "stdout",
     "output_type": "stream",
     "text": [
      "numberof reps in north branch: 9\n"
     ]
    }
   ],
   "source": [
    "#Code Used:\n",
    "no_north_rep=north_df[\"Rep ID\"].nunique()\n",
    "print(\"numberof reps in north branch:\",no_north_rep)\n"
   ]
  },
  {
   "cell_type": "markdown",
   "id": "2a9b34d8",
   "metadata": {},
   "source": [
    "#### EDA Question 1B:  How many reps are in the South branch?  "
   ]
  },
  {
   "cell_type": "code",
   "execution_count": 120,
   "id": "3c715bbf",
   "metadata": {},
   "outputs": [
    {
     "name": "stdout",
     "output_type": "stream",
     "text": [
      "number of reps in south branch: 11\n"
     ]
    }
   ],
   "source": [
    "#Code Used:\n",
    "no_south_rep=south_df[\"Rep ID\"].nunique()\n",
    "\n",
    "print(\"number of reps in south branch:\",no_south_rep)"
   ]
  },
  {
   "cell_type": "markdown",
   "id": "a872f045",
   "metadata": {},
   "source": [
    "#### EDA Question 2A:  What is the average busy minutes, not ready minutes, incoming wait time, and during call wait time for the North branch? "
   ]
  },
  {
   "cell_type": "code",
   "execution_count": 123,
   "id": "3759305f",
   "metadata": {},
   "outputs": [
    {
     "name": "stdout",
     "output_type": "stream",
     "text": [
      "average busy minutes :         9.99\n",
      "average not ready minutes:     1.91\n",
      "average incoming wait time:    3.05\n",
      "average dueing call wait time: 2.97\n"
     ]
    }
   ],
   "source": [
    "#Code Used:\n",
    "avg_busy_min=north_df[\"Busy Minutes\"].mean().round(2)\n",
    "avg_not_ready_minutes=north_df[\"Not Ready Minutes\"].mean().round(2)\n",
    "avg_incoming_wait_time=north_df[\"Incoming Wait Time\"].mean().round(2)\n",
    "avg_during_call_wait_time=north_df[\"During Call Wait Time\"].mean().round(2)\n",
    "print(\"average busy minutes :        \",avg_busy_min)\n",
    "print(\"average not ready minutes:    \",avg_not_ready_minutes)\n",
    "print(\"average incoming wait time:   \",avg_incoming_wait_time)\n",
    "print(\"average dueing call wait time:\",avg_during_call_wait_time)\n",
    "\n",
    "# north_df[['Busy Minutes','Not Ready Minutes','Incoming Wait Time','During Call Wait Time']].agg('mean')\n"
   ]
  },
  {
   "cell_type": "markdown",
   "id": "3851cf3e",
   "metadata": {},
   "source": [
    "#### EDA Question 2B:  What is the average busy minutes, not ready minutes, incoming wait time, and during call wait time for the South branch? "
   ]
  },
  {
   "cell_type": "code",
   "execution_count": 124,
   "id": "a77ec152",
   "metadata": {},
   "outputs": [
    {
     "name": "stdout",
     "output_type": "stream",
     "text": [
      "average busy minutes:           10.05\n",
      "average not rady minutes:       1.91\n",
      "average incoming wait time:     3.0\n",
      "average during call wait time:  3.08\n"
     ]
    }
   ],
   "source": [
    "#Code Used:\n",
    "avg_busy_min_south=south_df[\"Busy Minutes\"].mean().round(2)\n",
    "avg_not_ready_minutes_south=south_df[\"Not Ready Minutes\"].mean().round(2)\n",
    "avg_incoming_wait_time_south=south_df[\"Incoming Wait Time\"].mean().round(2)\n",
    "avg_during_call_wait_time_south=south_df[\"During Call Wait Time\"].mean().round(2)\n",
    "print(\"average busy minutes:          \",avg_busy_min_south)\n",
    "print(\"average not rady minutes:      \",avg_not_ready_minutes_south)\n",
    "print(\"average incoming wait time:    \",avg_incoming_wait_time_south)\n",
    "print(\"average during call wait time: \",avg_during_call_wait_time_south)\n"
   ]
  },
  {
   "cell_type": "markdown",
   "id": "75915553",
   "metadata": {},
   "source": [
    "#### EDA Question 3:  What is the number of calls taken for each time block(Both North and South combined)?"
   ]
  },
  {
   "cell_type": "code",
   "execution_count": 7,
   "id": "49566936",
   "metadata": {},
   "outputs": [
    {
     "name": "stdout",
     "output_type": "stream",
     "text": [
      "no of calls north:             Calls\n",
      "Time Block       \n",
      "10:00 AM       43\n",
      "11:00 AM       25\n",
      "12:00 PM       45\n",
      "1:00 PM        17\n",
      "2:00 PM        35\n",
      "3:00 PM        30\n",
      "4:00 PM        28\n",
      "5:00 PM        17\n",
      "9:00 AM         5\n",
      "no of calls south:             Calls\n",
      "Time Block       \n",
      "10:00 AM       56\n",
      "11:00 AM       31\n",
      "12:00 PM       75\n",
      "1:00 PM        23\n",
      "2:00 PM        30\n",
      "3:00 PM        43\n",
      "4:00 PM        25\n",
      "5:00 PM        26\n",
      "9:00 AM         5\n",
      "total no of call taken by all branches             Calls\n",
      "Time Block       \n",
      "10:00 AM       99\n",
      "11:00 AM       56\n",
      "12:00 PM      120\n",
      "1:00 PM        40\n",
      "2:00 PM        65\n",
      "3:00 PM        73\n",
      "4:00 PM        53\n",
      "5:00 PM        43\n",
      "9:00 AM        10\n"
     ]
    }
   ],
   "source": [
    "# Code Used:\"\n",
    "no_of_calls_north=north_df.groupby(\"Time Block\").aggregate({'Calls':'sum'})\n",
    "print(\"no of calls north:\",no_of_calls_north)\n",
    "no_of_calls_south=south_df.groupby(\"Time Block\").aggregate({'Calls':'sum'})\n",
    "print(\"no of calls south:\",no_of_calls_south)\n",
    "\n",
    "print(\"total no of call taken by all branches\",(no_of_calls_north+no_of_calls_south))\n",
    " \n",
    "# no_of_total_calls=pd.concate([north_df['Time Block'],south_df['Time Block']])\n",
    "# no_of_total_calls.value_counts()"
   ]
  },
  {
   "cell_type": "markdown",
   "id": "40b1fd3f",
   "metadata": {},
   "source": [
    "##### Record your answers for the EDA section by double clicking here:\n",
    "- 1a) Reps in the North Branch = 9\n",
    "- 1b) Reps in the South Branch = 11\n",
    "\n",
    "\n",
    "- 2a) North Branch, (round to the nearest hundredth):\n",
    "> - Busy Minutes = 9.99\n",
    "> - Not Ready Minutes = 1.91\n",
    "> - Incoming Wait Time = 3.05\n",
    "> - During Call Wait Time = 2.97\n",
    "- 2b) South Branch, (round to the nearest hundredth):\n",
    "> - Busy Minutes = 10.05\n",
    "> - Not Ready Minutes = 1.91\n",
    "> - Incoming Wait Time = 3.0\n",
    "> - During Call Wait Time = 3.08\n",
    "- 3) Total Calls taken for all branches per time block:\n",
    "> - 9:00AM   = 10\n",
    "> - 10:00AM  = 99\n",
    "> - 11:00AM  = 56\n",
    "> - 12:00PM  = 120                                                         \n",
    "> - 1:00PM   = 40\n",
    "> - 2:00PM   = 65\n",
    "> - 3:00PM   = 73\n",
    "> - 4:00PM   = 53\n",
    "> - 5:00PM   = 43\n",
    "\n"
   ]
  },
  {
   "cell_type": "markdown",
   "id": "446048d3",
   "metadata": {},
   "source": [
    "<span style=\"background-color:orangered; color:orangered;\">- - - - - - - - - - - - - - - - - - - - - - - - - - - - - - - - - - - - - - - - - - - - - - - - - - - - - - - - - - - - - - - - - - - - - - - - - - - - - - - - - - - - - - - - -</span>"
   ]
  },
  {
   "cell_type": "markdown",
   "id": "366bfb19",
   "metadata": {},
   "source": [
    "## Cleaning Your Data \n",
    "Now you need to clean up the datasets. When cleaning the datasets, you may find that there isn't dirty data to clean. That is okay! Some questions you need to answer about the data sets.\n",
    "* Add additional code blocks as needed to show how you came to your conclusions. Add comments in your code blocks to help others understand your thinking. "
   ]
  },
  {
   "cell_type": "code",
   "execution_count": 6,
   "id": "54f7711f",
   "metadata": {},
   "outputs": [
    {
     "name": "stdout",
     "output_type": "stream",
     "text": [
      "Unnamed: 0                 0\n",
      "Branch                     0\n",
      "Call Purpose               0\n",
      "Time Block                 0\n",
      "Incoming or Outgoing       0\n",
      "Queue                      0\n",
      "Rep ID                     0\n",
      "Sale                       0\n",
      "Lost Call                  0\n",
      "Abandoned                  0\n",
      "Busy Minutes               0\n",
      "Not Ready Minutes          0\n",
      "Incoming Wait Time       163\n",
      "During Call Wait Time      0\n",
      "Calls                      0\n",
      "dtype: int64\n",
      "Unnamed: 0                 0\n",
      "Branch                     0\n",
      "Call Purpose               0\n",
      "Time Block                 0\n",
      "Incoming or Outgoing       0\n",
      "Queue                      0\n",
      "Rep ID                     0\n",
      "Sale                       0\n",
      "Lost Call                  0\n",
      "Abandoned                  0\n",
      "Busy Minutes               0\n",
      "Not Ready Minutes          0\n",
      "Incoming Wait Time       188\n",
      "During Call Wait Time      0\n",
      "Calls                      0\n",
      "dtype: int64\n"
     ]
    }
   ],
   "source": [
    "# finding missing values in both datasets.\n",
    "print(north_df.isnull().sum())\n",
    "print(south_df.isnull().sum())"
   ]
  },
  {
   "cell_type": "code",
   "execution_count": 15,
   "id": "660d768e",
   "metadata": {},
   "outputs": [
    {
     "name": "stdout",
     "output_type": "stream",
     "text": [
      "(245, 15)\n"
     ]
    },
    {
     "data": {
      "image/png": "[encoded data removed]",
      "text/plain": [
       "<Figure size 640x480 with 2 Axes>"
      ]
     },
     "metadata": {},
     "output_type": "display_data"
    }
   ],
   "source": [
    "# ploting heat map  to better understand missing values.\n",
    "# importing seaborn libary\n",
    "import seaborn as sns\n",
    "cols = north_df.columns[:30] # first 30 columns\n",
    "colours = ['#000099', '#ffff00'] # specify the colours - yellow is missing. blue is not missing.\n",
    "sns.heatmap(north_df[cols].isnull(), cmap=sns.color_palette(colours))\n",
    "print(north_df.shape)"
   ]
  },
  {
   "cell_type": "code",
   "execution_count": 155,
   "id": "817e49f0",
   "metadata": {},
   "outputs": [
    {
     "name": "stdout",
     "output_type": "stream",
     "text": [
      "Unnamed: 0 - 0%\n",
      "(245, 15)\n",
      "Branch - 0%\n",
      "(245, 15)\n",
      "Call Purpose - 0%\n",
      "(245, 15)\n",
      "Time Block - 0%\n",
      "(245, 15)\n",
      "Incoming or Outgoing - 0%\n",
      "(245, 15)\n",
      "Queue - 0%\n",
      "(245, 15)\n",
      "Rep ID - 0%\n",
      "(245, 15)\n",
      "Sale - 0%\n",
      "(245, 15)\n",
      "Lost Call - 0%\n",
      "(245, 15)\n",
      "Abandoned - 0%\n",
      "(245, 15)\n",
      "Busy Minutes - 0%\n",
      "(245, 15)\n",
      "Not Ready Minutes - 0%\n",
      "(245, 15)\n",
      "Incoming Wait Time - 67%\n",
      "(245, 15)\n",
      "During Call Wait Time - 0%\n",
      "(245, 15)\n",
      "Calls - 0%\n",
      "(245, 15)\n"
     ]
    }
   ],
   "source": [
    "for col in north_df.columns:\n",
    "    pct_missing = np.mean(north_df[col].isnull())\n",
    "    print('{} - {}%'.format(col, round(pct_missing*100)))\n",
    "    print(north_df.shape)\n"
   ]
  },
  {
   "cell_type": "code",
   "execution_count": 125,
   "id": "fa32b3b1",
   "metadata": {},
   "outputs": [
    {
     "data": {
      "text/plain": [
       "<Axes: >"
      ]
     },
     "execution_count": 125,
     "metadata": {},
     "output_type": "execute_result"
    },
    {
     "data": {
      "image/png": "[encoded data removed]",
      "text/plain": [
       "<Figure size 1200x800 with 1 Axes>"
      ]
     },
     "metadata": {},
     "output_type": "display_data"
    }
   ],
   "source": [
    "missing_by_row = north_df.isna().sum(axis='columns')\n",
    "missing_by_row.hist(bins=50)\n"
   ]
  },
  {
   "cell_type": "code",
   "execution_count": 156,
   "id": "214b6cfb",
   "metadata": {},
   "outputs": [
    {
     "data": {
      "text/plain": [
       "163"
      ]
     },
     "execution_count": 156,
     "metadata": {},
     "output_type": "execute_result"
    }
   ],
   "source": [
    "north_df.isna().sum().sum()"
   ]
  },
  {
   "cell_type": "code",
   "execution_count": 158,
   "id": "258e6b75",
   "metadata": {},
   "outputs": [
    {
     "data": {
      "text/plain": [
       "163"
      ]
     },
     "execution_count": 158,
     "metadata": {},
     "output_type": "execute_result"
    }
   ],
   "source": [
    "north_df['Incoming Wait Time'].isna().sum()"
   ]
  },
  {
   "cell_type": "code",
   "execution_count": 17,
   "id": "e6ba6b76",
   "metadata": {},
   "outputs": [
    {
     "name": "stdout",
     "output_type": "stream",
     "text": [
      "(314, 15)\n"
     ]
    },
    {
     "data": {
      "image/png": "[encoded data removed]",
      "text/plain": [
       "<Figure size 640x480 with 2 Axes>"
      ]
     },
     "metadata": {},
     "output_type": "display_data"
    }
   ],
   "source": [
    "south_cols = south_df.columns[:30] # first 30 columns\n",
    "colours = ['#000099', '#ffff00'] # specify the colours - yellow is missing. blue is not missing.\n",
    "sns.heatmap(south_df[cols].isnull(), cmap=sns.color_palette(colours))\n",
    "print(south_df.shape)"
   ]
  },
  {
   "cell_type": "code",
   "execution_count": 126,
   "id": "24deba43",
   "metadata": {},
   "outputs": [
    {
     "name": "stdout",
     "output_type": "stream",
     "text": [
      "Unnamed: 0 - 0%\n",
      "(314, 15)\n",
      "Branch - 0%\n",
      "(314, 15)\n",
      "Call Purpose - 0%\n",
      "(314, 15)\n",
      "Time Block - 0%\n",
      "(314, 15)\n",
      "Incoming or Outgoing - 0%\n",
      "(314, 15)\n",
      "Queue - 0%\n",
      "(314, 15)\n",
      "Rep ID - 0%\n",
      "(314, 15)\n",
      "Sale - 0%\n",
      "(314, 15)\n",
      "Lost Call - 0%\n",
      "(314, 15)\n",
      "Abandoned - 0%\n",
      "(314, 15)\n",
      "Busy Minutes - 0%\n",
      "(314, 15)\n",
      "Not Ready Minutes - 0%\n",
      "(314, 15)\n",
      "Incoming Wait Time - 60%\n",
      "(314, 15)\n",
      "During Call Wait Time - 0%\n",
      "(314, 15)\n",
      "Calls - 0%\n",
      "(314, 15)\n"
     ]
    }
   ],
   "source": [
    "for col in south_df.columns:\n",
    "    pct_missing = np.mean(south_df[col].isnull())\n",
    "    print('{} - {}%'.format(col, round(pct_missing*100)))\n",
    "    print(south_df.shape)"
   ]
  },
  {
   "cell_type": "code",
   "execution_count": 153,
   "id": "eee46cee",
   "metadata": {},
   "outputs": [
    {
     "data": {
      "text/plain": [
       "False    314\n",
       "Name: Sale, dtype: int64"
      ]
     },
     "execution_count": 153,
     "metadata": {},
     "output_type": "execute_result"
    }
   ],
   "source": [
    "south_df['Sale'].isnull().value_counts()"
   ]
  },
  {
   "cell_type": "code",
   "execution_count": 154,
   "id": "2f362cd2",
   "metadata": {},
   "outputs": [
    {
     "data": {
      "text/plain": [
       "188"
      ]
     },
     "execution_count": 154,
     "metadata": {},
     "output_type": "execute_result"
    }
   ],
   "source": [
    "south_df['Incoming Wait Time'].isnull().sum()"
   ]
  },
  {
   "cell_type": "code",
   "execution_count": 127,
   "id": "30def57b",
   "metadata": {},
   "outputs": [
    {
     "data": {
      "text/plain": [
       "<Axes: >"
      ]
     },
     "execution_count": 127,
     "metadata": {},
     "output_type": "execute_result"
    },
    {
     "data": {
      "image/png": "[encoded data removed]",
      "text/plain": [
       "<Figure size 1200x800 with 1 Axes>"
      ]
     },
     "metadata": {},
     "output_type": "display_data"
    }
   ],
   "source": [
    "missing_by_row = south_df.isna().sum(axis='columns')\n",
    "missing_by_row.hist(bins=50)"
   ]
  },
  {
   "cell_type": "markdown",
   "id": "c3564d69",
   "metadata": {},
   "source": [
    "#### Cleaning Question 1:  Is there any missing data and if yes explain what you would do with the missing data and why?\n",
    "##### Record your answer by double clicking here:\n",
    "> Your Answer: yes there is missing values in both dataset in incoming wait time column ...may due to wait time we may lost some data ...we can fill impute with mean or meadian of total incoming wait time column."
   ]
  },
  {
   "cell_type": "code",
   "execution_count": 134,
   "id": "b77fb574",
   "metadata": {},
   "outputs": [
    {
     "data": {
      "text/plain": [
       "3.04878    163\n",
       "4.00000     20\n",
       "1.00000     17\n",
       "5.00000     17\n",
       "2.00000     16\n",
       "3.00000     12\n",
       "Name: Incoming Wait Time, dtype: int64"
      ]
     },
     "execution_count": 134,
     "metadata": {},
     "output_type": "execute_result"
    }
   ],
   "source": [
    "# Code Used\n",
    "# Add Additional Cells as needed.\n",
    "# imputing  missing values with mean value in both datasets.\n",
    "north_dffill = north_df['Incoming Wait Time'].fillna(north_df['Incoming Wait Time'].mean(),inplace = True)\n",
    "# north_dfre.value_counts()\n",
    "\n",
    "north_df['Incoming Wait Time'].value_counts()"
   ]
  },
  {
   "cell_type": "code",
   "execution_count": 136,
   "id": "48541406",
   "metadata": {
    "scrolled": false
   },
   "outputs": [
    {
     "data": {
      "text/plain": [
       "3.04878    163\n",
       "4.00000     20\n",
       "1.00000     17\n",
       "5.00000     17\n",
       "2.00000     16\n",
       "3.00000     12\n",
       "Name: Incoming Wait Time, dtype: int64"
      ]
     },
     "execution_count": 136,
     "metadata": {},
     "output_type": "execute_result"
    }
   ],
   "source": [
    "south_dfill=south_df['Incoming Wait Time'].fillna(south_df['Incoming Wait Time'].mean(),inplace=True)\n",
    "\n",
    "south_df['Incoming Wait Time'].value_counts()"
   ]
  },
  {
   "cell_type": "code",
   "execution_count": 137,
   "id": "23b5e535",
   "metadata": {},
   "outputs": [
    {
     "name": "stdout",
     "output_type": "stream",
     "text": [
      "(245, 15)\n"
     ]
    },
    {
     "data": {
      "image/png": "[encoded data removed]",
      "text/plain": [
       "<Figure size 1200x800 with 2 Axes>"
      ]
     },
     "metadata": {},
     "output_type": "display_data"
    }
   ],
   "source": [
    "cols = north_df.columns[:15] # first 30 columns\n",
    "colours = ['#000099', '#ffff00'] # specify the colours - yellow is missing. blue is not missing.\n",
    "sns.heatmap(north_df[cols].isnull(), cmap=sns.color_palette(colours))\n",
    "print(north_df.shape)\n"
   ]
  },
  {
   "cell_type": "code",
   "execution_count": 138,
   "id": "ea67e8ae",
   "metadata": {},
   "outputs": [
    {
     "name": "stdout",
     "output_type": "stream",
     "text": [
      "(245, 15)\n"
     ]
    },
    {
     "data": {
      "image/png": "[encoded data removed]",
      "text/plain": [
       "<Figure size 1200x800 with 2 Axes>"
      ]
     },
     "metadata": {},
     "output_type": "display_data"
    }
   ],
   "source": [
    "# plotting heat map for north call center datset.finding any missing values after mean imputation.\n",
    "cols = south_df.columns[:30] # first 30 columns\n",
    "colours = ['#000099', '#ffff00'] # specify the colours - yellow is missing. blue is not missing.\n",
    "sns.heatmap(south_df[cols].isnull(), cmap=sns.color_palette(colours))\n",
    "print(south_df.shape)"
   ]
  },
  {
   "cell_type": "markdown",
   "id": "dc47f020",
   "metadata": {},
   "source": [
    "#### Cleaning Question 2:  In the North data set, there are two separate \"YES\" values for a sale. Why and how did you rectify the issue?\n",
    "##### Record your answer by double clicking here:\n",
    "> Your Answer: Replaced Yes to true and No to False, So that we can differentiate between 2 Yes Values"
   ]
  },
  {
   "cell_type": "code",
   "execution_count": 128,
   "id": "4e0fbad6",
   "metadata": {},
   "outputs": [
    {
     "data": {
      "text/plain": [
       "NO      234\n",
       "YES      10\n",
       "YES       1\n",
       "Name: Sale, dtype: int64"
      ]
     },
     "execution_count": 128,
     "metadata": {},
     "output_type": "execute_result"
    }
   ],
   "source": [
    "#Code Used\n",
    "# Add Additional Cells as needed.\n",
    "north_df['Sale'].value_counts()"
   ]
  },
  {
   "cell_type": "code",
   "execution_count": 129,
   "id": "0200cf59",
   "metadata": {},
   "outputs": [
    {
     "data": {
      "text/plain": [
       "False    234\n",
       "True      10\n",
       "YES        1\n",
       "Name: Sale, dtype: int64"
      ]
     },
     "execution_count": 129,
     "metadata": {},
     "output_type": "execute_result"
    }
   ],
   "source": [
    "north_df=north_df.replace({'Sale':{'NO':False,'YES':True}})\n",
    "\n",
    "north_df['Sale'].value_counts()\n"
   ]
  },
  {
   "cell_type": "code",
   "execution_count": 159,
   "id": "f7d0699a",
   "metadata": {},
   "outputs": [
    {
     "data": {
      "text/plain": [
       "False    308\n",
       "True       6\n",
       "Name: Sale, dtype: int64"
      ]
     },
     "execution_count": 159,
     "metadata": {},
     "output_type": "execute_result"
    }
   ],
   "source": [
    "\n",
    "south_df=south_df.replace({'Sale':{'NO':False,'YES':True}})\n",
    "\n",
    "south_df['Sale'].value_counts()"
   ]
  },
  {
   "cell_type": "code",
   "execution_count": null,
   "id": "1a3dcb3e",
   "metadata": {},
   "outputs": [],
   "source": []
  },
  {
   "cell_type": "markdown",
   "id": "715f375a",
   "metadata": {},
   "source": [
    "#### Cleaning Question 3:  Are there duplicates in the two data sets? If there are, how did you handle them?\n",
    "##### Record your answer by double clicking here:\n",
    "> Your Answer: No there were duplicate values in both north and south data sets."
   ]
  },
  {
   "cell_type": "code",
   "execution_count": 29,
   "id": "ce77fb7f",
   "metadata": {},
   "outputs": [
    {
     "name": "stdout",
     "output_type": "stream",
     "text": [
      "0\n",
      "0\n"
     ]
    }
   ],
   "source": [
    "# finding duplicate vaLUES IN DATSET\n",
    "print(north_df.duplicated().sum())\n",
    "print(south_df.duplicated().sum())"
   ]
  },
  {
   "cell_type": "markdown",
   "id": "8ffaa865",
   "metadata": {},
   "source": [
    "#### Cleaning Question 4:  Is any of the data in the two data sets unnecessary? If yes, how did you handle it?\n",
    "##### Record your answer by double clicking here:\n",
    "> Your Answer: there is column 'unamed'which is unncessary to data as it repersent index value or unique values of call dataset. by dropping that column makes no difference to data .so i use df.drop() method to remove column."
   ]
  },
  {
   "cell_type": "code",
   "execution_count": 147,
   "id": "78b45e70",
   "metadata": {
    "scrolled": true
   },
   "outputs": [
    {
     "name": "stdout",
     "output_type": "stream",
     "text": [
      "(245, 14)\n",
      "(314, 14)\n"
     ]
    }
   ],
   "source": [
    "#Code Used\n",
    "# Add Additional Cells as needed.\n",
    "drop_unncessary_north= north_df_missing.drop('Unnamed: 0', axis=1)\n",
    "drop_unncessary_south=south_df_missing.drop('Unnamed: 0', axis=1)\n",
    "print(drop_unncessary_north.shape)\n",
    "print(drop_unncessary_south.shape)"
   ]
  },
  {
   "cell_type": "markdown",
   "id": "f67d89ab",
   "metadata": {},
   "source": [
    "<span style=\"background-color:orangered; color:orangered;\">- - - - - - - - - - - - - - - - - - - - - - - - - - - - - - - - - - - - - - - - - - - - - - - - - - - - - - - - - - - - - - - - - - - - - - - - - - - - - - - - - - - - - - - - -</span>"
   ]
  },
  {
   "cell_type": "markdown",
   "id": "73342a9a",
   "metadata": {},
   "source": [
    "## Data Manipulation\n",
    "Before you begin answering any questions, combine the two datasets together to create a third dataframe called df. You can use this third dataframe to compare the two call centers to company-wide trends.\n",
    "* Add additional code blocks as needed to show how you came to your conclusions. Add comments in your code blocks to help others understand your thinking. Record your answer by double clicking the below cell."
   ]
  },
  {
   "cell_type": "code",
   "execution_count": 160,
   "id": "e9705c34",
   "metadata": {},
   "outputs": [
    {
     "data": {
      "text/plain": [
       "Product Support    310\n",
       "Sales Support      198\n",
       "Complaint           51\n",
       "Name: Call Purpose, dtype: int64"
      ]
     },
     "execution_count": 160,
     "metadata": {},
     "output_type": "execute_result"
    }
   ],
   "source": [
    "# Create dataframe for the entire company named df BY MERGING TWO DATAFRAMES.\n",
    "\n",
    "df=pd.concat([north_df,south_df])\n",
    "\n",
    "df.columns\n",
    "df['Call Purpose'].value_counts()\n"
   ]
  },
  {
   "cell_type": "code",
   "execution_count": 142,
   "id": "e3462248",
   "metadata": {},
   "outputs": [
    {
     "data": {
      "text/html": [
       "<div>\n",
       "<style scoped>\n",
       "    .dataframe tbody tr th:only-of-type {\n",
       "        vertical-align: middle;\n",
       "    }\n",
       "\n",
       "    .dataframe tbody tr th {\n",
       "        vertical-align: top;\n",
       "    }\n",
       "\n",
       "    .dataframe thead th {\n",
       "        text-align: right;\n",
       "    }\n",
       "</style>\n",
       "<table border=\"1\" class=\"dataframe\">\n",
       "  <thead>\n",
       "    <tr style=\"text-align: right;\">\n",
       "      <th></th>\n",
       "      <th>Branch</th>\n",
       "      <th>Call Purpose</th>\n",
       "      <th>Time Block</th>\n",
       "      <th>Incoming or Outgoing</th>\n",
       "      <th>Queue</th>\n",
       "      <th>Rep ID</th>\n",
       "      <th>Sale</th>\n",
       "      <th>Lost Call</th>\n",
       "      <th>Abandoned</th>\n",
       "      <th>Busy Minutes</th>\n",
       "      <th>Not Ready Minutes</th>\n",
       "      <th>Incoming Wait Time</th>\n",
       "      <th>During Call Wait Time</th>\n",
       "      <th>Calls</th>\n",
       "    </tr>\n",
       "  </thead>\n",
       "  <tbody>\n",
       "    <tr>\n",
       "      <th>0</th>\n",
       "      <td>North</td>\n",
       "      <td>Complaint</td>\n",
       "      <td>9:00 AM</td>\n",
       "      <td>Incoming</td>\n",
       "      <td>B</td>\n",
       "      <td>Brent</td>\n",
       "      <td>False</td>\n",
       "      <td>0</td>\n",
       "      <td>1</td>\n",
       "      <td>9</td>\n",
       "      <td>2</td>\n",
       "      <td>1.00000</td>\n",
       "      <td>4</td>\n",
       "      <td>1</td>\n",
       "    </tr>\n",
       "    <tr>\n",
       "      <th>1</th>\n",
       "      <td>North</td>\n",
       "      <td>Sales Support</td>\n",
       "      <td>11:00 AM</td>\n",
       "      <td>Incoming</td>\n",
       "      <td>A</td>\n",
       "      <td>Cam</td>\n",
       "      <td>False</td>\n",
       "      <td>0</td>\n",
       "      <td>0</td>\n",
       "      <td>11</td>\n",
       "      <td>1</td>\n",
       "      <td>1.00000</td>\n",
       "      <td>3</td>\n",
       "      <td>1</td>\n",
       "    </tr>\n",
       "    <tr>\n",
       "      <th>2</th>\n",
       "      <td>North</td>\n",
       "      <td>Sales Support</td>\n",
       "      <td>11:00 AM</td>\n",
       "      <td>Incoming</td>\n",
       "      <td>B</td>\n",
       "      <td>Todd</td>\n",
       "      <td>False</td>\n",
       "      <td>0</td>\n",
       "      <td>0</td>\n",
       "      <td>9</td>\n",
       "      <td>3</td>\n",
       "      <td>1.00000</td>\n",
       "      <td>3</td>\n",
       "      <td>1</td>\n",
       "    </tr>\n",
       "    <tr>\n",
       "      <th>3</th>\n",
       "      <td>North</td>\n",
       "      <td>Sales Support</td>\n",
       "      <td>4:00 PM</td>\n",
       "      <td>Incoming</td>\n",
       "      <td>B</td>\n",
       "      <td>Brent</td>\n",
       "      <td>False</td>\n",
       "      <td>0</td>\n",
       "      <td>0</td>\n",
       "      <td>11</td>\n",
       "      <td>2</td>\n",
       "      <td>1.00000</td>\n",
       "      <td>4</td>\n",
       "      <td>1</td>\n",
       "    </tr>\n",
       "    <tr>\n",
       "      <th>4</th>\n",
       "      <td>North</td>\n",
       "      <td>Product Support</td>\n",
       "      <td>12:00 PM</td>\n",
       "      <td>Incoming</td>\n",
       "      <td>B</td>\n",
       "      <td>Brent</td>\n",
       "      <td>False</td>\n",
       "      <td>0</td>\n",
       "      <td>0</td>\n",
       "      <td>8</td>\n",
       "      <td>2</td>\n",
       "      <td>1.00000</td>\n",
       "      <td>4</td>\n",
       "      <td>1</td>\n",
       "    </tr>\n",
       "    <tr>\n",
       "      <th>...</th>\n",
       "      <td>...</td>\n",
       "      <td>...</td>\n",
       "      <td>...</td>\n",
       "      <td>...</td>\n",
       "      <td>...</td>\n",
       "      <td>...</td>\n",
       "      <td>...</td>\n",
       "      <td>...</td>\n",
       "      <td>...</td>\n",
       "      <td>...</td>\n",
       "      <td>...</td>\n",
       "      <td>...</td>\n",
       "      <td>...</td>\n",
       "      <td>...</td>\n",
       "    </tr>\n",
       "    <tr>\n",
       "      <th>240</th>\n",
       "      <td>North</td>\n",
       "      <td>Product Support</td>\n",
       "      <td>5:00 PM</td>\n",
       "      <td>Outgoing</td>\n",
       "      <td>B</td>\n",
       "      <td>Brent</td>\n",
       "      <td>False</td>\n",
       "      <td>0</td>\n",
       "      <td>0</td>\n",
       "      <td>10</td>\n",
       "      <td>2</td>\n",
       "      <td>3.04878</td>\n",
       "      <td>3</td>\n",
       "      <td>1</td>\n",
       "    </tr>\n",
       "    <tr>\n",
       "      <th>241</th>\n",
       "      <td>North</td>\n",
       "      <td>Product Support</td>\n",
       "      <td>5:00 PM</td>\n",
       "      <td>Outgoing</td>\n",
       "      <td>A</td>\n",
       "      <td>Joe</td>\n",
       "      <td>False</td>\n",
       "      <td>0</td>\n",
       "      <td>0</td>\n",
       "      <td>8</td>\n",
       "      <td>3</td>\n",
       "      <td>3.04878</td>\n",
       "      <td>2</td>\n",
       "      <td>1</td>\n",
       "    </tr>\n",
       "    <tr>\n",
       "      <th>242</th>\n",
       "      <td>North</td>\n",
       "      <td>Product Support</td>\n",
       "      <td>5:00 PM</td>\n",
       "      <td>Outgoing</td>\n",
       "      <td>A</td>\n",
       "      <td>Amanda</td>\n",
       "      <td>False</td>\n",
       "      <td>0</td>\n",
       "      <td>0</td>\n",
       "      <td>12</td>\n",
       "      <td>1</td>\n",
       "      <td>3.04878</td>\n",
       "      <td>2</td>\n",
       "      <td>1</td>\n",
       "    </tr>\n",
       "    <tr>\n",
       "      <th>243</th>\n",
       "      <td>North</td>\n",
       "      <td>Product Support</td>\n",
       "      <td>5:00 PM</td>\n",
       "      <td>Outgoing</td>\n",
       "      <td>A</td>\n",
       "      <td>Cam</td>\n",
       "      <td>False</td>\n",
       "      <td>0</td>\n",
       "      <td>0</td>\n",
       "      <td>11</td>\n",
       "      <td>2</td>\n",
       "      <td>3.04878</td>\n",
       "      <td>2</td>\n",
       "      <td>1</td>\n",
       "    </tr>\n",
       "    <tr>\n",
       "      <th>244</th>\n",
       "      <td>North</td>\n",
       "      <td>Product Support</td>\n",
       "      <td>5:00 PM</td>\n",
       "      <td>Outgoing</td>\n",
       "      <td>B</td>\n",
       "      <td>Xander</td>\n",
       "      <td>False</td>\n",
       "      <td>0</td>\n",
       "      <td>0</td>\n",
       "      <td>8</td>\n",
       "      <td>1</td>\n",
       "      <td>3.04878</td>\n",
       "      <td>4</td>\n",
       "      <td>1</td>\n",
       "    </tr>\n",
       "  </tbody>\n",
       "</table>\n",
       "<p>490 rows × 14 columns</p>\n",
       "</div>"
      ],
      "text/plain": [
       "    Branch     Call Purpose Time Block Incoming or Outgoing Queue  Rep ID  \\\n",
       "0    North        Complaint    9:00 AM             Incoming     B   Brent   \n",
       "1    North    Sales Support   11:00 AM             Incoming     A     Cam   \n",
       "2    North    Sales Support   11:00 AM             Incoming     B    Todd   \n",
       "3    North    Sales Support    4:00 PM             Incoming     B   Brent   \n",
       "4    North  Product Support   12:00 PM             Incoming     B   Brent   \n",
       "..     ...              ...        ...                  ...   ...     ...   \n",
       "240  North  Product Support    5:00 PM             Outgoing     B   Brent   \n",
       "241  North  Product Support    5:00 PM             Outgoing     A     Joe   \n",
       "242  North  Product Support    5:00 PM             Outgoing     A  Amanda   \n",
       "243  North  Product Support    5:00 PM             Outgoing     A     Cam   \n",
       "244  North  Product Support    5:00 PM             Outgoing     B  Xander   \n",
       "\n",
       "      Sale  Lost Call  Abandoned  Busy Minutes  Not Ready Minutes  \\\n",
       "0    False          0          1             9                  2   \n",
       "1    False          0          0            11                  1   \n",
       "2    False          0          0             9                  3   \n",
       "3    False          0          0            11                  2   \n",
       "4    False          0          0             8                  2   \n",
       "..     ...        ...        ...           ...                ...   \n",
       "240  False          0          0            10                  2   \n",
       "241  False          0          0             8                  3   \n",
       "242  False          0          0            12                  1   \n",
       "243  False          0          0            11                  2   \n",
       "244  False          0          0             8                  1   \n",
       "\n",
       "     Incoming Wait Time  During Call Wait Time  Calls  \n",
       "0               1.00000                      4      1  \n",
       "1               1.00000                      3      1  \n",
       "2               1.00000                      3      1  \n",
       "3               1.00000                      4      1  \n",
       "4               1.00000                      4      1  \n",
       "..                  ...                    ...    ...  \n",
       "240             3.04878                      3      1  \n",
       "241             3.04878                      2      1  \n",
       "242             3.04878                      2      1  \n",
       "243             3.04878                      2      1  \n",
       "244             3.04878                      4      1  \n",
       "\n",
       "[490 rows x 14 columns]"
      ]
     },
     "execution_count": 142,
     "metadata": {},
     "output_type": "execute_result"
    }
   ],
   "source": [
    "df = df.drop([\"Unnamed: 0\"],axis = 1)\n",
    "df"
   ]
  },
  {
   "cell_type": "code",
   "execution_count": 141,
   "id": "91c5d9d3",
   "metadata": {},
   "outputs": [],
   "source": [
    "# since both call dataframes have similar columns names its created a new dataframe with all of the  column names as similar as both dataframes."
   ]
  },
  {
   "cell_type": "markdown",
   "id": "7e87dfd1",
   "metadata": {},
   "source": [
    "#### Manipulation Question 1:  Group by Rep ID and sum the resulting structure. Sort by calls to determine which rep in each branch has the highest number of calls.\n",
    "\n",
    "##### Record your answer by double clicking here:\n",
    "Rep with the hightest number of calls and their total calls:\n",
    "- North Branch = brent with 37\n",
    "- South Branch = Eric with 35\n"
   ]
  },
  {
   "cell_type": "code",
   "execution_count": 161,
   "id": "3953f09a",
   "metadata": {
    "scrolled": false
   },
   "outputs": [
    {
     "name": "stderr",
     "output_type": "stream",
     "text": [
      "/var/folders/mq/ylj5z08x5mx59bw0_nz_pfhm0000gn/T/ipykernel_33855/1551112502.py:4: FutureWarning: The default value of numeric_only in DataFrameGroupBy.sum is deprecated. In a future version, numeric_only will default to False. Either specify numeric_only or select only columns which should be valid for the function.\n",
      "  df_grpid=df.groupby(['Branch','Rep ID']).agg('sum')\n"
     ]
    },
    {
     "data": {
      "text/html": [
       "<div>\n",
       "<style scoped>\n",
       "    .dataframe tbody tr th:only-of-type {\n",
       "        vertical-align: middle;\n",
       "    }\n",
       "\n",
       "    .dataframe tbody tr th {\n",
       "        vertical-align: top;\n",
       "    }\n",
       "\n",
       "    .dataframe thead th {\n",
       "        text-align: right;\n",
       "    }\n",
       "</style>\n",
       "<table border=\"1\" class=\"dataframe\">\n",
       "  <thead>\n",
       "    <tr style=\"text-align: right;\">\n",
       "      <th></th>\n",
       "      <th></th>\n",
       "      <th>Unnamed: 0</th>\n",
       "      <th>Lost Call</th>\n",
       "      <th>Abandoned</th>\n",
       "      <th>Busy Minutes</th>\n",
       "      <th>Not Ready Minutes</th>\n",
       "      <th>Incoming Wait Time</th>\n",
       "      <th>During Call Wait Time</th>\n",
       "      <th>Calls</th>\n",
       "    </tr>\n",
       "    <tr>\n",
       "      <th>Branch</th>\n",
       "      <th>Rep ID</th>\n",
       "      <th></th>\n",
       "      <th></th>\n",
       "      <th></th>\n",
       "      <th></th>\n",
       "      <th></th>\n",
       "      <th></th>\n",
       "      <th></th>\n",
       "      <th></th>\n",
       "    </tr>\n",
       "  </thead>\n",
       "  <tbody>\n",
       "    <tr>\n",
       "      <th rowspan=\"9\" valign=\"top\">North</th>\n",
       "      <th>Amanda</th>\n",
       "      <td>2666</td>\n",
       "      <td>0</td>\n",
       "      <td>1</td>\n",
       "      <td>229</td>\n",
       "      <td>43</td>\n",
       "      <td>12.0</td>\n",
       "      <td>60</td>\n",
       "      <td>23</td>\n",
       "    </tr>\n",
       "    <tr>\n",
       "      <th>Andy</th>\n",
       "      <td>2494</td>\n",
       "      <td>0</td>\n",
       "      <td>3</td>\n",
       "      <td>228</td>\n",
       "      <td>43</td>\n",
       "      <td>36.0</td>\n",
       "      <td>65</td>\n",
       "      <td>23</td>\n",
       "    </tr>\n",
       "    <tr>\n",
       "      <th>Brent</th>\n",
       "      <td>4840</td>\n",
       "      <td>0</td>\n",
       "      <td>1</td>\n",
       "      <td>362</td>\n",
       "      <td>71</td>\n",
       "      <td>17.0</td>\n",
       "      <td>117</td>\n",
       "      <td>37</td>\n",
       "    </tr>\n",
       "    <tr>\n",
       "      <th>Cam</th>\n",
       "      <td>2746</td>\n",
       "      <td>1</td>\n",
       "      <td>0</td>\n",
       "      <td>233</td>\n",
       "      <td>46</td>\n",
       "      <td>32.0</td>\n",
       "      <td>66</td>\n",
       "      <td>24</td>\n",
       "    </tr>\n",
       "    <tr>\n",
       "      <th>Duke</th>\n",
       "      <td>2999</td>\n",
       "      <td>2</td>\n",
       "      <td>0</td>\n",
       "      <td>292</td>\n",
       "      <td>56</td>\n",
       "      <td>39.0</td>\n",
       "      <td>85</td>\n",
       "      <td>29</td>\n",
       "    </tr>\n",
       "    <tr>\n",
       "      <th>Joe</th>\n",
       "      <td>3178</td>\n",
       "      <td>0</td>\n",
       "      <td>0</td>\n",
       "      <td>256</td>\n",
       "      <td>49</td>\n",
       "      <td>36.0</td>\n",
       "      <td>81</td>\n",
       "      <td>26</td>\n",
       "    </tr>\n",
       "    <tr>\n",
       "      <th>Lilly</th>\n",
       "      <td>3375</td>\n",
       "      <td>0</td>\n",
       "      <td>2</td>\n",
       "      <td>307</td>\n",
       "      <td>59</td>\n",
       "      <td>37.0</td>\n",
       "      <td>88</td>\n",
       "      <td>30</td>\n",
       "    </tr>\n",
       "    <tr>\n",
       "      <th>Todd</th>\n",
       "      <td>4252</td>\n",
       "      <td>1</td>\n",
       "      <td>0</td>\n",
       "      <td>296</td>\n",
       "      <td>58</td>\n",
       "      <td>21.0</td>\n",
       "      <td>97</td>\n",
       "      <td>29</td>\n",
       "    </tr>\n",
       "    <tr>\n",
       "      <th>Xander</th>\n",
       "      <td>3340</td>\n",
       "      <td>1</td>\n",
       "      <td>0</td>\n",
       "      <td>244</td>\n",
       "      <td>44</td>\n",
       "      <td>20.0</td>\n",
       "      <td>68</td>\n",
       "      <td>24</td>\n",
       "    </tr>\n",
       "    <tr>\n",
       "      <th rowspan=\"11\" valign=\"top\">South</th>\n",
       "      <th>Alice</th>\n",
       "      <td>3637</td>\n",
       "      <td>0</td>\n",
       "      <td>0</td>\n",
       "      <td>199</td>\n",
       "      <td>46</td>\n",
       "      <td>15.0</td>\n",
       "      <td>58</td>\n",
       "      <td>20</td>\n",
       "    </tr>\n",
       "    <tr>\n",
       "      <th>Eric</th>\n",
       "      <td>5039</td>\n",
       "      <td>0</td>\n",
       "      <td>0</td>\n",
       "      <td>361</td>\n",
       "      <td>54</td>\n",
       "      <td>47.0</td>\n",
       "      <td>112</td>\n",
       "      <td>35</td>\n",
       "    </tr>\n",
       "    <tr>\n",
       "      <th>George</th>\n",
       "      <td>4620</td>\n",
       "      <td>0</td>\n",
       "      <td>0</td>\n",
       "      <td>298</td>\n",
       "      <td>53</td>\n",
       "      <td>41.0</td>\n",
       "      <td>87</td>\n",
       "      <td>29</td>\n",
       "    </tr>\n",
       "    <tr>\n",
       "      <th>Helga</th>\n",
       "      <td>5236</td>\n",
       "      <td>0</td>\n",
       "      <td>2</td>\n",
       "      <td>292</td>\n",
       "      <td>58</td>\n",
       "      <td>36.0</td>\n",
       "      <td>95</td>\n",
       "      <td>31</td>\n",
       "    </tr>\n",
       "    <tr>\n",
       "      <th>Josh</th>\n",
       "      <td>3960</td>\n",
       "      <td>3</td>\n",
       "      <td>0</td>\n",
       "      <td>260</td>\n",
       "      <td>50</td>\n",
       "      <td>31.0</td>\n",
       "      <td>83</td>\n",
       "      <td>26</td>\n",
       "    </tr>\n",
       "    <tr>\n",
       "      <th>Karl</th>\n",
       "      <td>4532</td>\n",
       "      <td>1</td>\n",
       "      <td>0</td>\n",
       "      <td>287</td>\n",
       "      <td>61</td>\n",
       "      <td>26.0</td>\n",
       "      <td>85</td>\n",
       "      <td>28</td>\n",
       "    </tr>\n",
       "    <tr>\n",
       "      <th>Kate</th>\n",
       "      <td>4615</td>\n",
       "      <td>0</td>\n",
       "      <td>0</td>\n",
       "      <td>291</td>\n",
       "      <td>61</td>\n",
       "      <td>37.0</td>\n",
       "      <td>83</td>\n",
       "      <td>29</td>\n",
       "    </tr>\n",
       "    <tr>\n",
       "      <th>Randy</th>\n",
       "      <td>4576</td>\n",
       "      <td>3</td>\n",
       "      <td>1</td>\n",
       "      <td>320</td>\n",
       "      <td>66</td>\n",
       "      <td>47.0</td>\n",
       "      <td>98</td>\n",
       "      <td>33</td>\n",
       "    </tr>\n",
       "    <tr>\n",
       "      <th>Sandy</th>\n",
       "      <td>4694</td>\n",
       "      <td>1</td>\n",
       "      <td>0</td>\n",
       "      <td>325</td>\n",
       "      <td>60</td>\n",
       "      <td>34.0</td>\n",
       "      <td>100</td>\n",
       "      <td>32</td>\n",
       "    </tr>\n",
       "    <tr>\n",
       "      <th>Sharon</th>\n",
       "      <td>4226</td>\n",
       "      <td>1</td>\n",
       "      <td>1</td>\n",
       "      <td>257</td>\n",
       "      <td>38</td>\n",
       "      <td>29.0</td>\n",
       "      <td>77</td>\n",
       "      <td>25</td>\n",
       "    </tr>\n",
       "    <tr>\n",
       "      <th>Susan</th>\n",
       "      <td>4006</td>\n",
       "      <td>2</td>\n",
       "      <td>0</td>\n",
       "      <td>267</td>\n",
       "      <td>53</td>\n",
       "      <td>35.0</td>\n",
       "      <td>88</td>\n",
       "      <td>26</td>\n",
       "    </tr>\n",
       "  </tbody>\n",
       "</table>\n",
       "</div>"
      ],
      "text/plain": [
       "               Unnamed: 0  Lost Call  Abandoned  Busy Minutes  \\\n",
       "Branch Rep ID                                                   \n",
       "North  Amanda        2666          0          1           229   \n",
       "       Andy          2494          0          3           228   \n",
       "       Brent         4840          0          1           362   \n",
       "       Cam           2746          1          0           233   \n",
       "       Duke          2999          2          0           292   \n",
       "       Joe           3178          0          0           256   \n",
       "       Lilly         3375          0          2           307   \n",
       "       Todd          4252          1          0           296   \n",
       "       Xander        3340          1          0           244   \n",
       "South  Alice         3637          0          0           199   \n",
       "       Eric          5039          0          0           361   \n",
       "       George        4620          0          0           298   \n",
       "       Helga         5236          0          2           292   \n",
       "       Josh          3960          3          0           260   \n",
       "       Karl          4532          1          0           287   \n",
       "       Kate          4615          0          0           291   \n",
       "       Randy         4576          3          1           320   \n",
       "       Sandy         4694          1          0           325   \n",
       "       Sharon        4226          1          1           257   \n",
       "       Susan         4006          2          0           267   \n",
       "\n",
       "               Not Ready Minutes  Incoming Wait Time  During Call Wait Time  \\\n",
       "Branch Rep ID                                                                 \n",
       "North  Amanda                 43                12.0                     60   \n",
       "       Andy                   43                36.0                     65   \n",
       "       Brent                  71                17.0                    117   \n",
       "       Cam                    46                32.0                     66   \n",
       "       Duke                   56                39.0                     85   \n",
       "       Joe                    49                36.0                     81   \n",
       "       Lilly                  59                37.0                     88   \n",
       "       Todd                   58                21.0                     97   \n",
       "       Xander                 44                20.0                     68   \n",
       "South  Alice                  46                15.0                     58   \n",
       "       Eric                   54                47.0                    112   \n",
       "       George                 53                41.0                     87   \n",
       "       Helga                  58                36.0                     95   \n",
       "       Josh                   50                31.0                     83   \n",
       "       Karl                   61                26.0                     85   \n",
       "       Kate                   61                37.0                     83   \n",
       "       Randy                  66                47.0                     98   \n",
       "       Sandy                  60                34.0                    100   \n",
       "       Sharon                 38                29.0                     77   \n",
       "       Susan                  53                35.0                     88   \n",
       "\n",
       "               Calls  \n",
       "Branch Rep ID         \n",
       "North  Amanda     23  \n",
       "       Andy       23  \n",
       "       Brent      37  \n",
       "       Cam        24  \n",
       "       Duke       29  \n",
       "       Joe        26  \n",
       "       Lilly      30  \n",
       "       Todd       29  \n",
       "       Xander     24  \n",
       "South  Alice      20  \n",
       "       Eric       35  \n",
       "       George     29  \n",
       "       Helga      31  \n",
       "       Josh       26  \n",
       "       Karl       28  \n",
       "       Kate       29  \n",
       "       Randy      33  \n",
       "       Sandy      32  \n",
       "       Sharon     25  \n",
       "       Susan      26  "
      ]
     },
     "execution_count": 161,
     "metadata": {},
     "output_type": "execute_result"
    }
   ],
   "source": [
    "# Code Used\n",
    "# Add Additional Cells as needed.\n",
    "# grouping with rep id and sum of calls\n",
    "df_grpid=df.groupby(['Branch','Rep ID']).agg('sum')\n",
    "\n",
    "df_grpid"
   ]
  },
  {
   "cell_type": "code",
   "execution_count": 162,
   "id": "48898029",
   "metadata": {},
   "outputs": [
    {
     "data": {
      "text/html": [
       "<div>\n",
       "<style scoped>\n",
       "    .dataframe tbody tr th:only-of-type {\n",
       "        vertical-align: middle;\n",
       "    }\n",
       "\n",
       "    .dataframe tbody tr th {\n",
       "        vertical-align: top;\n",
       "    }\n",
       "\n",
       "    .dataframe thead th {\n",
       "        text-align: right;\n",
       "    }\n",
       "</style>\n",
       "<table border=\"1\" class=\"dataframe\">\n",
       "  <thead>\n",
       "    <tr style=\"text-align: right;\">\n",
       "      <th></th>\n",
       "      <th></th>\n",
       "      <th>Unnamed: 0</th>\n",
       "      <th>Lost Call</th>\n",
       "      <th>Abandoned</th>\n",
       "      <th>Busy Minutes</th>\n",
       "      <th>Not Ready Minutes</th>\n",
       "      <th>Incoming Wait Time</th>\n",
       "      <th>During Call Wait Time</th>\n",
       "      <th>Calls</th>\n",
       "    </tr>\n",
       "    <tr>\n",
       "      <th>Branch</th>\n",
       "      <th>Rep ID</th>\n",
       "      <th></th>\n",
       "      <th></th>\n",
       "      <th></th>\n",
       "      <th></th>\n",
       "      <th></th>\n",
       "      <th></th>\n",
       "      <th></th>\n",
       "      <th></th>\n",
       "    </tr>\n",
       "  </thead>\n",
       "  <tbody>\n",
       "    <tr>\n",
       "      <th>North</th>\n",
       "      <th>Brent</th>\n",
       "      <td>4840</td>\n",
       "      <td>0</td>\n",
       "      <td>1</td>\n",
       "      <td>362</td>\n",
       "      <td>71</td>\n",
       "      <td>17.0</td>\n",
       "      <td>117</td>\n",
       "      <td>37</td>\n",
       "    </tr>\n",
       "    <tr>\n",
       "      <th rowspan=\"4\" valign=\"top\">South</th>\n",
       "      <th>Eric</th>\n",
       "      <td>5039</td>\n",
       "      <td>0</td>\n",
       "      <td>0</td>\n",
       "      <td>361</td>\n",
       "      <td>54</td>\n",
       "      <td>47.0</td>\n",
       "      <td>112</td>\n",
       "      <td>35</td>\n",
       "    </tr>\n",
       "    <tr>\n",
       "      <th>Randy</th>\n",
       "      <td>4576</td>\n",
       "      <td>3</td>\n",
       "      <td>1</td>\n",
       "      <td>320</td>\n",
       "      <td>66</td>\n",
       "      <td>47.0</td>\n",
       "      <td>98</td>\n",
       "      <td>33</td>\n",
       "    </tr>\n",
       "    <tr>\n",
       "      <th>Sandy</th>\n",
       "      <td>4694</td>\n",
       "      <td>1</td>\n",
       "      <td>0</td>\n",
       "      <td>325</td>\n",
       "      <td>60</td>\n",
       "      <td>34.0</td>\n",
       "      <td>100</td>\n",
       "      <td>32</td>\n",
       "    </tr>\n",
       "    <tr>\n",
       "      <th>Helga</th>\n",
       "      <td>5236</td>\n",
       "      <td>0</td>\n",
       "      <td>2</td>\n",
       "      <td>292</td>\n",
       "      <td>58</td>\n",
       "      <td>36.0</td>\n",
       "      <td>95</td>\n",
       "      <td>31</td>\n",
       "    </tr>\n",
       "    <tr>\n",
       "      <th rowspan=\"3\" valign=\"top\">North</th>\n",
       "      <th>Lilly</th>\n",
       "      <td>3375</td>\n",
       "      <td>0</td>\n",
       "      <td>2</td>\n",
       "      <td>307</td>\n",
       "      <td>59</td>\n",
       "      <td>37.0</td>\n",
       "      <td>88</td>\n",
       "      <td>30</td>\n",
       "    </tr>\n",
       "    <tr>\n",
       "      <th>Duke</th>\n",
       "      <td>2999</td>\n",
       "      <td>2</td>\n",
       "      <td>0</td>\n",
       "      <td>292</td>\n",
       "      <td>56</td>\n",
       "      <td>39.0</td>\n",
       "      <td>85</td>\n",
       "      <td>29</td>\n",
       "    </tr>\n",
       "    <tr>\n",
       "      <th>Todd</th>\n",
       "      <td>4252</td>\n",
       "      <td>1</td>\n",
       "      <td>0</td>\n",
       "      <td>296</td>\n",
       "      <td>58</td>\n",
       "      <td>21.0</td>\n",
       "      <td>97</td>\n",
       "      <td>29</td>\n",
       "    </tr>\n",
       "    <tr>\n",
       "      <th rowspan=\"5\" valign=\"top\">South</th>\n",
       "      <th>Kate</th>\n",
       "      <td>4615</td>\n",
       "      <td>0</td>\n",
       "      <td>0</td>\n",
       "      <td>291</td>\n",
       "      <td>61</td>\n",
       "      <td>37.0</td>\n",
       "      <td>83</td>\n",
       "      <td>29</td>\n",
       "    </tr>\n",
       "    <tr>\n",
       "      <th>George</th>\n",
       "      <td>4620</td>\n",
       "      <td>0</td>\n",
       "      <td>0</td>\n",
       "      <td>298</td>\n",
       "      <td>53</td>\n",
       "      <td>41.0</td>\n",
       "      <td>87</td>\n",
       "      <td>29</td>\n",
       "    </tr>\n",
       "    <tr>\n",
       "      <th>Karl</th>\n",
       "      <td>4532</td>\n",
       "      <td>1</td>\n",
       "      <td>0</td>\n",
       "      <td>287</td>\n",
       "      <td>61</td>\n",
       "      <td>26.0</td>\n",
       "      <td>85</td>\n",
       "      <td>28</td>\n",
       "    </tr>\n",
       "    <tr>\n",
       "      <th>Josh</th>\n",
       "      <td>3960</td>\n",
       "      <td>3</td>\n",
       "      <td>0</td>\n",
       "      <td>260</td>\n",
       "      <td>50</td>\n",
       "      <td>31.0</td>\n",
       "      <td>83</td>\n",
       "      <td>26</td>\n",
       "    </tr>\n",
       "    <tr>\n",
       "      <th>Susan</th>\n",
       "      <td>4006</td>\n",
       "      <td>2</td>\n",
       "      <td>0</td>\n",
       "      <td>267</td>\n",
       "      <td>53</td>\n",
       "      <td>35.0</td>\n",
       "      <td>88</td>\n",
       "      <td>26</td>\n",
       "    </tr>\n",
       "    <tr>\n",
       "      <th>North</th>\n",
       "      <th>Joe</th>\n",
       "      <td>3178</td>\n",
       "      <td>0</td>\n",
       "      <td>0</td>\n",
       "      <td>256</td>\n",
       "      <td>49</td>\n",
       "      <td>36.0</td>\n",
       "      <td>81</td>\n",
       "      <td>26</td>\n",
       "    </tr>\n",
       "    <tr>\n",
       "      <th>South</th>\n",
       "      <th>Sharon</th>\n",
       "      <td>4226</td>\n",
       "      <td>1</td>\n",
       "      <td>1</td>\n",
       "      <td>257</td>\n",
       "      <td>38</td>\n",
       "      <td>29.0</td>\n",
       "      <td>77</td>\n",
       "      <td>25</td>\n",
       "    </tr>\n",
       "    <tr>\n",
       "      <th rowspan=\"4\" valign=\"top\">North</th>\n",
       "      <th>Xander</th>\n",
       "      <td>3340</td>\n",
       "      <td>1</td>\n",
       "      <td>0</td>\n",
       "      <td>244</td>\n",
       "      <td>44</td>\n",
       "      <td>20.0</td>\n",
       "      <td>68</td>\n",
       "      <td>24</td>\n",
       "    </tr>\n",
       "    <tr>\n",
       "      <th>Cam</th>\n",
       "      <td>2746</td>\n",
       "      <td>1</td>\n",
       "      <td>0</td>\n",
       "      <td>233</td>\n",
       "      <td>46</td>\n",
       "      <td>32.0</td>\n",
       "      <td>66</td>\n",
       "      <td>24</td>\n",
       "    </tr>\n",
       "    <tr>\n",
       "      <th>Andy</th>\n",
       "      <td>2494</td>\n",
       "      <td>0</td>\n",
       "      <td>3</td>\n",
       "      <td>228</td>\n",
       "      <td>43</td>\n",
       "      <td>36.0</td>\n",
       "      <td>65</td>\n",
       "      <td>23</td>\n",
       "    </tr>\n",
       "    <tr>\n",
       "      <th>Amanda</th>\n",
       "      <td>2666</td>\n",
       "      <td>0</td>\n",
       "      <td>1</td>\n",
       "      <td>229</td>\n",
       "      <td>43</td>\n",
       "      <td>12.0</td>\n",
       "      <td>60</td>\n",
       "      <td>23</td>\n",
       "    </tr>\n",
       "    <tr>\n",
       "      <th>South</th>\n",
       "      <th>Alice</th>\n",
       "      <td>3637</td>\n",
       "      <td>0</td>\n",
       "      <td>0</td>\n",
       "      <td>199</td>\n",
       "      <td>46</td>\n",
       "      <td>15.0</td>\n",
       "      <td>58</td>\n",
       "      <td>20</td>\n",
       "    </tr>\n",
       "  </tbody>\n",
       "</table>\n",
       "</div>"
      ],
      "text/plain": [
       "               Unnamed: 0  Lost Call  Abandoned  Busy Minutes  \\\n",
       "Branch Rep ID                                                   \n",
       "North  Brent         4840          0          1           362   \n",
       "South  Eric          5039          0          0           361   \n",
       "       Randy         4576          3          1           320   \n",
       "       Sandy         4694          1          0           325   \n",
       "       Helga         5236          0          2           292   \n",
       "North  Lilly         3375          0          2           307   \n",
       "       Duke          2999          2          0           292   \n",
       "       Todd          4252          1          0           296   \n",
       "South  Kate          4615          0          0           291   \n",
       "       George        4620          0          0           298   \n",
       "       Karl          4532          1          0           287   \n",
       "       Josh          3960          3          0           260   \n",
       "       Susan         4006          2          0           267   \n",
       "North  Joe           3178          0          0           256   \n",
       "South  Sharon        4226          1          1           257   \n",
       "North  Xander        3340          1          0           244   \n",
       "       Cam           2746          1          0           233   \n",
       "       Andy          2494          0          3           228   \n",
       "       Amanda        2666          0          1           229   \n",
       "South  Alice         3637          0          0           199   \n",
       "\n",
       "               Not Ready Minutes  Incoming Wait Time  During Call Wait Time  \\\n",
       "Branch Rep ID                                                                 \n",
       "North  Brent                  71                17.0                    117   \n",
       "South  Eric                   54                47.0                    112   \n",
       "       Randy                  66                47.0                     98   \n",
       "       Sandy                  60                34.0                    100   \n",
       "       Helga                  58                36.0                     95   \n",
       "North  Lilly                  59                37.0                     88   \n",
       "       Duke                   56                39.0                     85   \n",
       "       Todd                   58                21.0                     97   \n",
       "South  Kate                   61                37.0                     83   \n",
       "       George                 53                41.0                     87   \n",
       "       Karl                   61                26.0                     85   \n",
       "       Josh                   50                31.0                     83   \n",
       "       Susan                  53                35.0                     88   \n",
       "North  Joe                    49                36.0                     81   \n",
       "South  Sharon                 38                29.0                     77   \n",
       "North  Xander                 44                20.0                     68   \n",
       "       Cam                    46                32.0                     66   \n",
       "       Andy                   43                36.0                     65   \n",
       "       Amanda                 43                12.0                     60   \n",
       "South  Alice                  46                15.0                     58   \n",
       "\n",
       "               Calls  \n",
       "Branch Rep ID         \n",
       "North  Brent      37  \n",
       "South  Eric       35  \n",
       "       Randy      33  \n",
       "       Sandy      32  \n",
       "       Helga      31  \n",
       "North  Lilly      30  \n",
       "       Duke       29  \n",
       "       Todd       29  \n",
       "South  Kate       29  \n",
       "       George     29  \n",
       "       Karl       28  \n",
       "       Josh       26  \n",
       "       Susan      26  \n",
       "North  Joe        26  \n",
       "South  Sharon     25  \n",
       "North  Xander     24  \n",
       "       Cam        24  \n",
       "       Andy       23  \n",
       "       Amanda     23  \n",
       "South  Alice      20  "
      ]
     },
     "execution_count": 162,
     "metadata": {},
     "output_type": "execute_result"
    }
   ],
   "source": [
    "sort_df=df_grpid.sort_values(by=['Calls'],ascending=False)\n",
    "\n",
    "sort_df"
   ]
  },
  {
   "cell_type": "markdown",
   "id": "809293b9",
   "metadata": {},
   "source": [
    "#### Manipulation Question 2:  The average call abandonment rate is a KPI when it comes to determining call center efficiency. As you may recall, abandoned calls are calls where the customer hangs up due to long call times. What is the average call abandonment rate for each branch and the whole company? Do any of these fall out of the optimal range of 2-5%?\n",
    "##### Record your answer by double clicking here:\n",
    "Average Call Abandonment Rates (round to the nearest hundredth):\n",
    "- North Branch = 2.86\n",
    "- South Branch =1.27 \n",
    "- Company Wide =1.97\n",
    "- Do any of these fall out of the optimal range of 2-5%? \n",
    "<!-- south branch>"
   ]
  },
  {
   "cell_type": "code",
   "execution_count": 168,
   "id": "3dff7534",
   "metadata": {},
   "outputs": [
    {
     "name": "stdout",
     "output_type": "stream",
     "text": [
      "average call abandenment  of north branch is 0.02857142857142857\n",
      "average call abandement of south branch is 0.012738853503184714\n",
      "average call abandonment in total company is 0.01967799642218247\n",
      "percentage of north: 2.86\n",
      "percentage of south 1.27\n",
      "percentage total: 1.97\n"
     ]
    }
   ],
   "source": [
    "# Code Used\n",
    "# average call abandonment rate of north_df\n",
    "avg_call_abandonment_north=north_df.loc[:,\"Abandoned\"].mean()\n",
    "print(\"average call abandenment  of north branch is\",avg_call_abandonment_north)\n",
    "avg_call_abandonment_south=south_df.loc[:,\"Abandoned\"].mean()\n",
    "print(\"average call abandement of south branch is\",avg_call_abandonment_south)\n",
    "avg_call_abandonment=df.loc[:,\"Abandoned\"].mean()\n",
    "\n",
    "print(\"average call abandonment in total company is\",avg_call_abandonment)\n",
    "percentage_n=(avg_call_abandonment_north*100).round(2)\n",
    "percentage_s=(avg_call_abandonment_south*100).round(2)\n",
    "percentage=(avg_call_abandonment*100).round(2)\n",
    "\n",
    "print(\"percentage of north:\",percentage_n)\n",
    "print(\"percentage of south\",percentage_s)\n",
    "print(\"percentage total:\",percentage)"
   ]
  },
  {
   "cell_type": "code",
   "execution_count": null,
   "id": "8b53a7a1",
   "metadata": {},
   "outputs": [],
   "source": [
    "# df_grpby=df.groupby('Branch')\n",
    "\n",
    "# e = ((df_grpby['Abandoned'].sum()/df_grpby['Calls'].sum())*100).round(2)\n",
    "\n",
    "# print('North and South Abandoned percentage is',e)\n",
    "\n",
    "\n",
    "\n",
    "# t= ((df['Abandoned'].sum()/df['Calls'].sum())*100).round(2)\n",
    "\n",
    "# print('Overall percentage is',t)"
   ]
  },
  {
   "cell_type": "markdown",
   "id": "598bb1bf",
   "metadata": {},
   "source": [
    "#### Manipulation Question 3:  Service level is another KPI when it comes to measuring call center efficiency. Service level is the percentage of calls answered within a specific number of seconds. In the case of your employer, their ideal time frame is 2 seconds. What is the percentage of calls answered within 2 seconds for each branch and the entire company?\n",
    "##### Record your answer by double clicking here:\n",
    "Percentage of calls answered within 2 seconds, include # of calls:\n",
    "- North Branch = 40.24,33 calls\n",
    "- South Branch = 38.1,48 calls\n",
    "- Company Wide = 38.94"
   ]
  },
  {
   "cell_type": "code",
   "execution_count": 178,
   "id": "2fc8f669",
   "metadata": {
    "scrolled": false
   },
   "outputs": [
    {
     "name": "stdout",
     "output_type": "stream",
     "text": [
      "no of calls attained within 2 seconds in north callcenter: 33\n",
      "percentage of calls answered within 2 sec  are: 40.24\n",
      "calls answered in south branch within 2 sec are : 48\n",
      "percentage of calls answered within 2 sec  are: 38.1\n",
      "no of calls  answered by company wide are: 81\n",
      "percentage of calls answered within 2 sec  are: 38.94\n"
     ]
    }
   ],
   "source": [
    "# Code Used\n",
    "# for north  branch percentage of calls answered within 2 seconds\n",
    "north_2sec_calls = (north_df[north_df[\"Incoming Wait Time\"] <= 2.0]).value_counts().sum()\n",
    "print(\"no of calls attained within 2 seconds in north callcenter:\",north_2sec_calls)\n",
    "north_total_incoming_calls= north_df[north_df['Incoming or Outgoing'] == 'Incoming']['Incoming or Outgoing'].value_counts().sum()\n",
    "\n",
    "percentage_north_calls=((north_2sec_calls/north_total_incoming_calls)*100).round(2)\n",
    "print(\"percentage of calls answered within 2 sec  are:\",percentage_north_calls)\n",
    "\n",
    "\n",
    "\n",
    "# for south branch percentage of calls answered within 2 seconds\n",
    "south_2sec_calls = (south_df[south_df[\"Incoming Wait Time\"]<=2.0]).value_counts().sum()\n",
    "print(\"calls answered in south branch within 2 sec are :\",south_2sec_calls)\n",
    "south_total_incoming_calls= south_df[south_df['Incoming or Outgoing'] == 'Incoming']['Incoming or Outgoing'].value_counts().sum()\n",
    "\n",
    "percentage_south_calls=((south_2sec_calls/south_total_incoming_calls)*100).round(2)\n",
    "print(\"percentage of calls answered within 2 sec  are:\",percentage_south_calls)\n",
    "\n",
    "\n",
    "# total percentage of calls attained by company wide\n",
    "df_2sec_calls=df[df[\"Incoming Wait Time\"] <=2.0].value_counts().sum()\n",
    "print(\"no of calls  answered by company wide are:\",df_2sec_calls)\n",
    "df_total_incoming=df[df[\"Incoming or Outgoing\"]==\"Incoming\"]['Incoming or Outgoing'].value_counts().sum()\n",
    "\n",
    "percentage_calls=((df_2sec_calls/df_total_incoming_calls)*100).round(2)\n",
    "print(\"percentage of calls answered within 2 sec  are:\",percentage_calls)\n",
    "\n"
   ]
  },
  {
   "cell_type": "markdown",
   "id": "7e19e705",
   "metadata": {},
   "source": [
    "#### Manipulation Question 4: For each branch and the entire company, what is the average speed of answer?\n",
    "##### Record your answer by double clicking here:\n",
    "Average speed of answer (rounded to nearest hundredth):\n",
    "- North Branch in seconds = 3.04\n",
    "- South Branch in seconds =3.0 \n",
    "- Company Wide in seconds = 3.01\n"
   ]
  },
  {
   "cell_type": "code",
   "execution_count": 182,
   "id": "72a653ed",
   "metadata": {},
   "outputs": [
    {
     "data": {
      "text/plain": [
       "3.048780487804878"
      ]
     },
     "execution_count": 182,
     "metadata": {},
     "output_type": "execute_result"
    }
   ],
   "source": [
    "# Code Used \n",
    "# average speed of answer refers to incoming call wait in dataset.\n",
    "avg_speed_ans_north= north_df[\"Incoming Wait Time\"].agg('mean')\n",
    "avg_speed_ans_north\n"
   ]
  },
  {
   "cell_type": "code",
   "execution_count": 181,
   "id": "7bc2d20b",
   "metadata": {},
   "outputs": [
    {
     "data": {
      "text/plain": [
       "3.0"
      ]
     },
     "execution_count": 181,
     "metadata": {},
     "output_type": "execute_result"
    }
   ],
   "source": [
    "avg_speed_ans_south= south_df[\"Incoming Wait Time\"].agg('mean')\n",
    "avg_speed_ans_south"
   ]
  },
  {
   "cell_type": "code",
   "execution_count": 180,
   "id": "df2c266f",
   "metadata": {},
   "outputs": [
    {
     "data": {
      "text/plain": [
       "3.019230769230769"
      ]
     },
     "execution_count": 180,
     "metadata": {},
     "output_type": "execute_result"
    }
   ],
   "source": [
    "avg_speed_ans_df= df[\"Incoming Wait Time\"].agg('mean')\n",
    "avg_speed_ans_df"
   ]
  },
  {
   "cell_type": "markdown",
   "id": "ba3ca2cd",
   "metadata": {},
   "source": [
    "<span style=\"background-color:orangered; color:orangered;\">- - - - - - - - - - - - - - - - - - - - - - - - - - - - - - - - - - - - - - - - - - - - - - - - - - - - - - - - - - - - - - - - - - - - - - - - - - - - - - - - - - - - - - - - -</span>"
   ]
  },
  {
   "cell_type": "markdown",
   "id": "d5f50a40",
   "metadata": {},
   "source": [
    "## Visualization\n",
    "\n",
    "Create a visualization for each of the following questions. Some of the code to handle aggregating and storing data may be written for you. For each visualization, you choose the chart style that you feel suits the situation best. Make note of the chart style you chose and why. \n",
    "\n",
    "*NOTE Some questions you may decide to use more than one chart and or chart style."
   ]
  },
  {
   "cell_type": "markdown",
   "id": "66ccf83c",
   "metadata": {},
   "source": [
    "#### Visualization 1:  What is the average abandonment rate per queue?\n",
    "##### Record your answer by double clicking here:\n",
    "\n",
    "> Chart style you chose and why: \n",
    "i choose bar chart style ...since we are taking average rate for each queue in data.bar chart can give us exact distrubtion in each queue element ."
   ]
  },
  {
   "cell_type": "code",
   "execution_count": 100,
   "id": "c971d779",
   "metadata": {},
   "outputs": [
    {
     "name": "stderr",
     "output_type": "stream",
     "text": [
      "/var/folders/mq/ylj5z08x5mx59bw0_nz_pfhm0000gn/T/ipykernel_33855/2234561801.py:17: FutureWarning: The default value of numeric_only in DataFrameGroupBy.sum is deprecated. In a future version, numeric_only will default to False. Either specify numeric_only or select only columns which should be valid for the function.\n",
      "  queue_dict = df.groupby(\"Queue\").agg(\"sum\")\n"
     ]
    },
    {
     "name": "stdout",
     "output_type": "stream",
     "text": [
      "       Unnamed: 0  Lost Call  Abandoned  Busy Minutes  Not Ready Minutes  \\\n",
      "Queue                                                                      \n",
      "A           11084          1          4           946                181   \n",
      "B           18806          4          3          1501                288   \n",
      "C           21602          4          1          1409                251   \n",
      "D           27539          7          3          1748                349   \n",
      "\n",
      "       Incoming Wait Time  During Call Wait Time  Calls  \n",
      "Queue                                                    \n",
      "A                   116.0                    272     96  \n",
      "B                   134.0                    455    149  \n",
      "C                   160.0                    435    138  \n",
      "D                   218.0                    531    176  \n"
     ]
    },
    {
     "data": {
      "image/png": "[encoded data removed]",
      "text/plain": [
       "<Figure size 2000x1000 with 1 Axes>"
      ]
     },
     "metadata": {},
     "output_type": "display_data"
    }
   ],
   "source": [
    "# Create visualization 1 here\n",
    "\n",
    "# Import any additional libraries needed with alias\n",
    "import seaborn as sns\n",
    "import numpy as np\n",
    "import matplotlib.pyplot as plt\n",
    "from matplotlib import style\n",
    "# setting style for graphs\n",
    "style.use('ggplot')\n",
    "plt.rcParams['figure.figsize'] =(20,10)\n",
    "\n",
    "# The dictionary abandonment_rates has the data you need.\n",
    "abandonment_rates = {}\n",
    "queues = [\"A\", \"B\", \"C\", \"D\"]\n",
    "# df['Queue']\n",
    "\n",
    "queue_dict = df.groupby(\"Queue\").agg(\"sum\")\n",
    "print(queue_dict)\n",
    "for i in range(4):\n",
    "    abandonment_rates[queues[i]] = queue_dict[\"Abandoned\"][i] / queue_dict[\"Calls\"][i] \n",
    "\n",
    "#Your Code Here:\n",
    "names = list(abandonment_rates.keys())\n",
    "values = list(abandonment_rates.values())\n",
    "plt.bar(range(len(abandonment_rates)), list(abandonment_rates.values()), align='center')\n",
    "plt.xticks(range(len(abandonment_rates)), list(abandonment_rates.keys()))\n",
    "plt.title('Average Abandonment calls for queue',color = 'black')\n",
    "plt.xlabel('Queues',color = 'black')\n",
    "plt.ylabel('Average rate',color = 'black')\n",
    "plt.savefig('bar_vertical.png')\n",
    "\n",
    "plt.show()\n"
   ]
  },
  {
   "cell_type": "markdown",
   "id": "4a9fc77f",
   "metadata": {},
   "source": [
    "#### Visualization 2: What is the service level percentage and average speed of answer for each rep in the North Branch?\n",
    "##### Record your answer by double clicking here:\n",
    "\n",
    "> Chart style you chose and why: \n",
    "i choose grouped bar chart since we have compare to attributes with same column id representing in one parameter ...we can bar  charted those two attributes well with distrubtion comparision ."
   ]
  },
  {
   "cell_type": "code",
   "execution_count": 103,
   "id": "61f65a7f",
   "metadata": {
    "scrolled": false
   },
   "outputs": [
    {
     "name": "stdout",
     "output_type": "stream",
     "text": [
      "        Calls_x  Calls_y  Service Level %\n",
      "Rep ID                                   \n",
      "Amanda        3        5        60.000000\n",
      "Andy          3       10        30.000000\n",
      "Brent         6        8        75.000000\n",
      "Cam           5       11        45.454545\n",
      "Duke          6       14        42.857143\n",
      "Joe           2       10        20.000000\n",
      "Lilly         4       12        33.333333\n",
      "Todd          2        6        33.333333\n",
      "Xander        2        6        33.333333\n"
     ]
    },
    {
     "data": {
      "image/png": "[encoded data removed]",
      "text/plain": [
       "<Figure size 1000x600 with 1 Axes>"
      ]
     },
     "metadata": {},
     "output_type": "display_data"
    }
   ],
   "source": [
    "# Create visualization 2 here\n",
    "# north_plt contains the data you need for the average speed of answer of each rep\n",
    "\n",
    "north_plt = north_df.groupby(\"Rep ID\")[\"Incoming Wait Time\"].mean().to_frame().reset_index()\n",
    "# print(north_plt)\n",
    "# Finding each Rep's Personal Service Level Percentage.  Basically, Calls within 2 secs / total calls\n",
    "\n",
    "# Table 1: Total Incoming calls less than 2 seconds grouped by Rep\n",
    "quick_calls = north_df[north_df[\"Incoming Wait Time\"] <= 2.0]\n",
    "quick_reps = quick_calls[[\"Rep ID\", \"Calls\"]]\n",
    "quick_stats = quick_reps.groupby([\"Rep ID\"]).sum()  # Final Table\n",
    "# print(quick_stats)\n",
    "\n",
    "# Table 2: Total Incoming Calls Only grouped by Rep\n",
    "total_calls_in = north_df[north_df[\"Incoming or Outgoing\"] == \"Incoming\"]\n",
    "rep_calls = total_calls_in[[\"Rep ID\", \"Calls\"]]     \n",
    "total_stats = rep_calls.groupby([\"Rep ID\"]).sum() # Final Table  \n",
    "# print(total_stats)\n",
    "#  Table 3: Service Level Percentage created via merge\n",
    "service_level = pd.merge(quick_stats, total_stats, on=\"Rep ID\")\n",
    "\n",
    "# Create Percentage Column in Table 3\n",
    "service_level[\"Service Level %\"] = service_level[\"Calls_x\"]/service_level[\"Calls_y\"] * 100\n",
    "print(service_level)\n",
    "#Your Code Here:\n",
    "\n",
    "grouped_data=pd.merge(north_plt,service_level,on='Rep ID')\n",
    "\n",
    "grouped_data['Rep ID']\n",
    "\n",
    "bar_positions = list(range(len(grouped_data)))\n",
    "\n",
    "fig, ax = plt.subplots(figsize=(10, 6))\n",
    "bar_width = 0.3\n",
    "# ploting average speed\n",
    "ax.bar(\n",
    "    bar_positions,\n",
    "    grouped_data['Service Level %'],\n",
    "    bar_width,\n",
    "    label='Service Level Percentage',\n",
    "    color='blue'\n",
    ")\n",
    "\n",
    "# Plotting Average Speed Of Answer\n",
    "ax.bar(\n",
    "    [pos + bar_width for pos in bar_positions],\n",
    "    grouped_data['Incoming Wait Time'],\n",
    "    bar_width,\n",
    "    label='Average speed of answer for each rep',\n",
    "    color='green'\n",
    ")\n",
    "\n",
    "ax.set_xticks([pos + bar_width / 2 for pos in bar_positions])\n",
    "ax.set_xticklabels(grouped_data['Rep ID'])\n",
    "ax.set_xlabel('Rep')\n",
    "ax.set_ylabel('Percentage / Speed (seconds)')\n",
    "ax.set_title('Service Level Percentage and Average Speed of Answer for each Rep in the North Branch')\n",
    "ax.legend()\n",
    "plt.xticks(rotation=45)\n",
    "plt.tight_layout()\n",
    "plt.show()\n",
    "\n",
    "\n",
    "\n",
    "  \n",
    "\n"
   ]
  },
  {
   "cell_type": "markdown",
   "id": "f965e41a",
   "metadata": {},
   "source": [
    "#### Visualization 3: For each type of call purpose, how many calls are outgoing vs. incoming?\n",
    "##### Record your answer by double clicking here:\n",
    "\n",
    "> Chart style you chose and why: \n",
    "i choose pie charts since it as three types of purpose ofincoming and outgoing calls ...we can show how much percentage of type purpose has more calls vice versa. "
   ]
  },
  {
   "cell_type": "code",
   "execution_count": 108,
   "id": "44096730",
   "metadata": {},
   "outputs": [
    {
     "name": "stdout",
     "output_type": "stream",
     "text": [
      "Call Purpose     Incoming or Outgoing\n",
      "Complaint        Incoming                 51\n",
      "Product Support  Outgoing                228\n",
      "                 Incoming                 82\n",
      "Sales Support    Outgoing                123\n",
      "                 Incoming                 75\n",
      "Name: Incoming or Outgoing, dtype: int64\n"
     ]
    },
    {
     "data": {
      "image/png": "[encoded data removed]",
      "text/plain": [
       "<Figure size 2000x1000 with 1 Axes>"
      ]
     },
     "metadata": {},
     "output_type": "display_data"
    },
    {
     "data": {
      "image/png": "[encoded data removed]",
      "text/plain": [
       "<Figure size 2000x1000 with 1 Axes>"
      ]
     },
     "metadata": {},
     "output_type": "display_data"
    },
    {
     "data": {
      "image/png": "[encoded data removed]",
      "text/plain": [
       "<Figure size 2000x1000 with 1 Axes>"
      ]
     },
     "metadata": {},
     "output_type": "display_data"
    }
   ],
   "source": [
    "# Create visualization 3 here:\n",
    "# The three dictionaries, complaints, sales_support, and product_support, have the information you need\n",
    "\n",
    "purpose_group = df.groupby(\"Call Purpose\")\n",
    "call_purpose = [\"Complaint\", \"Product Support\", \"Sales Support\"]\n",
    "purpose_counts = purpose_group[\"Incoming or Outgoing\"].value_counts()\n",
    "print(purpose_counts)\n",
    "\n",
    "complaints = purpose_counts[\"Complaint\"].to_dict()\n",
    "sales_support = purpose_counts[\"Sales Support\"].to_dict()\n",
    "product_support = purpose_counts[\"Product Support\"].to_dict()\n",
    "\n",
    "#Your Code Here:\n",
    "\n",
    "# Function to plot a pie chart for a single call purpose\n",
    "def plot_pie_chart(di,call_purpose):\n",
    "    # Get the data for the specific call purpose\n",
    "    title=call_purpose\n",
    "    \n",
    "    # Create the pie chart\n",
    "    plt.figure()\n",
    "    plt.pie(di.values(), labels=di.keys(), autopct='%1.1f%%', startangle=90)\n",
    "    plt.title(title)\n",
    "    plt.axis('equal')\n",
    "\n",
    "# Loop through each call purpose dictionary and plot a pie chart for each\n",
    "call_purposes = [\"Complaint\", \"Product Support\", \"Sales Support\"]\n",
    "for call_purpose in call_purposes:\n",
    "    if call_purpose == 'Product Support':\n",
    "        plot_pie_chart(product_support,call_purpose)\n",
    "    elif call_purpose == 'Sales Support':\n",
    "        plot_pie_chart(sales_support,call_purpose)\n",
    "    elif call_purpose == 'Complaint':\n",
    "        plot_pie_chart(complaints,call_purpose)\n",
    "\n",
    "plt.show()\n",
    "\n",
    "\n"
   ]
  },
  {
   "cell_type": "markdown",
   "id": "e0b9753f",
   "metadata": {},
   "source": [
    "<span style=\"background-color:orangered; color:orangered;\">- - - - - - - - - - - - - - - - - - - - - - - - - - - - - - - - - - - - - - - - - - - - - - - - - - - - - - - - - - - - - - - - - - - - - - - - - - - - - - - - - - - - - - - - -</span>"
   ]
  },
  {
   "cell_type": "markdown",
   "id": "ea7ed568",
   "metadata": {},
   "source": [
    "## Summarize Your Work\n",
    "\n",
    "With what you know now about the two call centers and the entire company, answer the following questions. Note that while this is subjective, you should include relevant data to back up your opinion.\n"
   ]
  },
  {
   "cell_type": "markdown",
   "id": "d2fc3d13",
   "metadata": {},
   "source": [
    "#### Summary Question 1:  Using KPIs such as average abandonment rate, service level and average speed of answer, in your opinion, which one of the two branches is operating more efficiently? Why?\n",
    "\n",
    "##### Record your answer by double clicking here:\n",
    "> Your Answer: In my opinion south branch is operated more efficient by using KPIs average adandonment rate,service level and average speed of answer in call center company.\n",
    "\n"
   ]
  },
  {
   "cell_type": "markdown",
   "id": "489f28d6",
   "metadata": {},
   "source": [
    "#### Summary Question 2: Based on the number of reps in each branch and how quickly the reps are working, in your opinion, which branch would benefit from the extra help?\n",
    "\n",
    "##### Record your answer by double clicking here:\n",
    "> Your Answer:in my opinion  based on  number of reps  north branch is quickly working and benefitted from the extra help .\n"
   ]
  },
  {
   "cell_type": "markdown",
   "id": "0b10a8c3",
   "metadata": {},
   "source": [
    "#### Summary Question 3: Now that you have explored the datasets, is there any data or information that you wish you had in this analysis?\n",
    "\n",
    "##### Record your answer by double clicking here:\n",
    "> Your Answer: no this data is more than enough to explore the dataset.\n"
   ]
  },
  {
   "cell_type": "markdown",
   "id": "5c6cba45",
   "metadata": {},
   "source": [
    "<span style=\"background-color:orangered; color:orangered;\">- - - - - - - - - - - - - - - - - - - - - - - - - - - - - - - - - - - - - - - - - - - - - - - - - - - - - - - - - - - - - - - - - - - - - - - - - - - - - - - - - - - - - - - - -</span>"
   ]
  },
  {
   "cell_type": "markdown",
   "id": "ce16f43d",
   "metadata": {},
   "source": [
    "## Bonus Mission\n",
    "Create a visualization that answers this question: For each call purpose, how many calls (incoming and outgoing) take place in each time block?\n",
    "##### Record your answer by double clicking here:\n",
    "\n",
    "> Chart style you chose and why: "
   ]
  },
  {
   "cell_type": "code",
   "execution_count": null,
   "id": "71b04f32",
   "metadata": {},
   "outputs": [],
   "source": [
    "# Create your Bonus Mission visualization here!\n",
    "call_times = df[[\"Time Block\", \"Call Purpose\", \"Incoming or Outgoing\", \"Calls\"]]\n",
    "\n",
    "# Use groupby to plot based on time blocks:\n",
    "\n",
    "# Use groupby and get_group to select which call purpose to plot:"
   ]
  }
 ],
 "metadata": {
  "kernelspec": {
   "display_name": "Python 3 (ipykernel)",
   "language": "python",
   "name": "python3"
  },
  "language_info": {
   "codemirror_mode": {
    "name": "ipython",
    "version": 3
   },
   "file_extension": ".py",
   "mimetype": "text/x-python",
   "name": "python",
   "nbconvert_exporter": "python",
   "pygments_lexer": "ipython3",
   "version": "3.10.9"
  }
 },
 "nbformat": 4,
 "nbformat_minor": 5
}
